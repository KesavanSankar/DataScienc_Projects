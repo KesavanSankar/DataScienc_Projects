{
 "cells": [
  {
   "cell_type": "markdown",
   "metadata": {
    "id": "aDlwU3yBa4rC"
   },
   "source": [
    "____________"
   ]
  },
  {
   "cell_type": "markdown",
   "metadata": {
    "id": "IdjLrLu7a4rE"
   },
   "source": [
    "### DATASET INFORMATION: \n",
    "\n",
    "\n"
   ]
  },
  {
   "cell_type": "markdown",
   "metadata": {
    "id": "0gfVcGBDa4rI"
   },
   "source": [
    "## Dataset Description\n",
    "This dataset contains:\n",
    "* 310 Observations\n",
    "* 12 Features \n",
    "* 1 Lebel\n",
    "\n",
    "|__ col. no.__| __Attribute name__| __type__| \n",
    "|-------------|---------------------|-----------|\n",
    "| Col1 | pelvic_incidence | numeric, float64|\n",
    "|Col2|pelvic_tilt |numeric, float64 |\n",
    "|Col3| lumbar_lordosis_angle |numeric, float64|\n",
    "|Col4|sacral_slope|numeric, float64|\n",
    "|Col5| pelvic_radius  |numeric, float64|\n",
    "|Col6|degree_spondylolisthesis   |numeric, float64|\n",
    "|Col7| pelvic_slope |numeric, float64|\n",
    "|Col8|Direct_tilt  |numeric, float64|\n",
    "|Col9| thoracic_slope |numeric, float64|\n",
    "|Col10|  cervical_tilt |numeric, float64|\n",
    "|Col11| sacrum_angle |numeric, float64|\n",
    "|Col12| scoliosis_slope |numeric, float64|\n",
    "|Class_att| Attribute Class | categorical, object|"
   ]
  },
  {
   "cell_type": "code",
   "execution_count": 182,
   "metadata": {},
   "outputs": [],
   "source": [
    "import pandas as pd\n",
    "import numpy as np\n",
    "import seaborn as sns\n",
    "import matplotlib.pyplot as plt\n",
    "\n",
    "from sklearn.metrics import classification_report,cohen_kappa_score,confusion_matrix,precision_score,recall_score,roc_auc_score,roc_curve,accuracy_score\n",
    "from sklearn.preprocessing import StandardScaler,LabelEncoder,OrdinalEncoder,PowerTransformer\n",
    "from sklearn.model_selection import train_test_split,GridSearchCV,cross_val_score\n",
    "\n",
    "from sklearn.metrics import f1_score"
   ]
  },
  {
   "cell_type": "code",
   "execution_count": 22,
   "metadata": {
    "id": "6EXaG2GNa4rL",
    "scrolled": true
   },
   "outputs": [
    {
     "data": {
      "text/html": [
       "<div>\n",
       "<style scoped>\n",
       "    .dataframe tbody tr th:only-of-type {\n",
       "        vertical-align: middle;\n",
       "    }\n",
       "\n",
       "    .dataframe tbody tr th {\n",
       "        vertical-align: top;\n",
       "    }\n",
       "\n",
       "    .dataframe thead th {\n",
       "        text-align: right;\n",
       "    }\n",
       "</style>\n",
       "<table border=\"1\" class=\"dataframe\">\n",
       "  <thead>\n",
       "    <tr style=\"text-align: right;\">\n",
       "      <th></th>\n",
       "      <th>pelvic_incidence</th>\n",
       "      <th>pelvic_tilt</th>\n",
       "      <th>lumbar_lordosis_angle</th>\n",
       "      <th>sacral_slope</th>\n",
       "      <th>pelvic_radius</th>\n",
       "      <th>degree_spondylolisthesis</th>\n",
       "      <th>pelvic_slope</th>\n",
       "      <th>Direct_tilt</th>\n",
       "      <th>thoracic_slope</th>\n",
       "      <th>cervical_tilt</th>\n",
       "      <th>sacrum_angle</th>\n",
       "      <th>scoliosis_slope</th>\n",
       "      <th>Attribute</th>\n",
       "      <th>Description</th>\n",
       "    </tr>\n",
       "  </thead>\n",
       "  <tbody>\n",
       "    <tr>\n",
       "      <th>0</th>\n",
       "      <td>63.027817</td>\n",
       "      <td>22.552586</td>\n",
       "      <td>39.609117</td>\n",
       "      <td>40.475232</td>\n",
       "      <td>98.672917</td>\n",
       "      <td>-0.254400</td>\n",
       "      <td>0.744503</td>\n",
       "      <td>12.5661</td>\n",
       "      <td>14.5386</td>\n",
       "      <td>15.30468</td>\n",
       "      <td>-28.658501</td>\n",
       "      <td>43.5123</td>\n",
       "      <td>Abnormal</td>\n",
       "      <td>NaN</td>\n",
       "    </tr>\n",
       "    <tr>\n",
       "      <th>1</th>\n",
       "      <td>39.056951</td>\n",
       "      <td>10.060991</td>\n",
       "      <td>25.015378</td>\n",
       "      <td>28.995960</td>\n",
       "      <td>114.405425</td>\n",
       "      <td>4.564259</td>\n",
       "      <td>0.415186</td>\n",
       "      <td>12.8874</td>\n",
       "      <td>17.5323</td>\n",
       "      <td>16.78486</td>\n",
       "      <td>-25.530607</td>\n",
       "      <td>16.1102</td>\n",
       "      <td>Abnormal</td>\n",
       "      <td>NaN</td>\n",
       "    </tr>\n",
       "    <tr>\n",
       "      <th>2</th>\n",
       "      <td>68.832021</td>\n",
       "      <td>22.218482</td>\n",
       "      <td>50.092194</td>\n",
       "      <td>46.613539</td>\n",
       "      <td>105.985135</td>\n",
       "      <td>-3.530317</td>\n",
       "      <td>0.474889</td>\n",
       "      <td>26.8343</td>\n",
       "      <td>17.4861</td>\n",
       "      <td>16.65897</td>\n",
       "      <td>-29.031888</td>\n",
       "      <td>19.2221</td>\n",
       "      <td>Abnormal</td>\n",
       "      <td>Prediction is done by using binary classificat...</td>\n",
       "    </tr>\n",
       "    <tr>\n",
       "      <th>3</th>\n",
       "      <td>69.297008</td>\n",
       "      <td>24.652878</td>\n",
       "      <td>44.311238</td>\n",
       "      <td>44.644130</td>\n",
       "      <td>101.868495</td>\n",
       "      <td>11.211523</td>\n",
       "      <td>0.369345</td>\n",
       "      <td>23.5603</td>\n",
       "      <td>12.7074</td>\n",
       "      <td>11.42447</td>\n",
       "      <td>-30.470246</td>\n",
       "      <td>18.8329</td>\n",
       "      <td>Abnormal</td>\n",
       "      <td>NaN</td>\n",
       "    </tr>\n",
       "    <tr>\n",
       "      <th>4</th>\n",
       "      <td>49.712859</td>\n",
       "      <td>9.652075</td>\n",
       "      <td>28.317406</td>\n",
       "      <td>40.060784</td>\n",
       "      <td>108.168725</td>\n",
       "      <td>7.918501</td>\n",
       "      <td>0.543360</td>\n",
       "      <td>35.4940</td>\n",
       "      <td>15.9546</td>\n",
       "      <td>8.87237</td>\n",
       "      <td>-16.378376</td>\n",
       "      <td>24.9171</td>\n",
       "      <td>Abnormal</td>\n",
       "      <td>NaN</td>\n",
       "    </tr>\n",
       "  </tbody>\n",
       "</table>\n",
       "</div>"
      ],
      "text/plain": [
       "   pelvic_incidence  pelvic_tilt  lumbar_lordosis_angle  sacral_slope  \\\n",
       "0         63.027817    22.552586              39.609117     40.475232   \n",
       "1         39.056951    10.060991              25.015378     28.995960   \n",
       "2         68.832021    22.218482              50.092194     46.613539   \n",
       "3         69.297008    24.652878              44.311238     44.644130   \n",
       "4         49.712859     9.652075              28.317406     40.060784   \n",
       "\n",
       "   pelvic_radius  degree_spondylolisthesis  pelvic_slope  Direct_tilt  \\\n",
       "0      98.672917                 -0.254400      0.744503      12.5661   \n",
       "1     114.405425                  4.564259      0.415186      12.8874   \n",
       "2     105.985135                 -3.530317      0.474889      26.8343   \n",
       "3     101.868495                 11.211523      0.369345      23.5603   \n",
       "4     108.168725                  7.918501      0.543360      35.4940   \n",
       "\n",
       "   thoracic_slope  cervical_tilt  sacrum_angle  scoliosis_slope Attribute  \\\n",
       "0         14.5386       15.30468    -28.658501          43.5123  Abnormal   \n",
       "1         17.5323       16.78486    -25.530607          16.1102  Abnormal   \n",
       "2         17.4861       16.65897    -29.031888          19.2221  Abnormal   \n",
       "3         12.7074       11.42447    -30.470246          18.8329  Abnormal   \n",
       "4         15.9546        8.87237    -16.378376          24.9171  Abnormal   \n",
       "\n",
       "                                         Description  \n",
       "0                                                NaN  \n",
       "1                                                NaN  \n",
       "2  Prediction is done by using binary classificat...  \n",
       "3                                                NaN  \n",
       "4                                                NaN  "
      ]
     },
     "execution_count": 22,
     "metadata": {},
     "output_type": "execute_result"
    }
   ],
   "source": [
    "# Kindly change the below cells from markdown to code and execute it \n",
    "import pandas as pd\n",
    "\n",
    "import csv\n",
    "\n",
    "with open(\"data_set.csv\",\"r\")as file:\n",
    "\n",
    "    reader=csv.reader(file) \n",
    "    df=pd.read_csv(\"data_set.csv\",names=['pelvic_incidence','pelvic_tilt','lumbar_lordosis_angle','sacral_slope','pelvic_radius','degree_spondylolisthesis','pelvic_slope','Direct_tilt','thoracic_slope'\n",
    "                                          ,'cervical_tilt','sacrum_angle','scoliosis_slope','Attribute','Description'],header=0)\n",
    "\n",
    "df.head()"
   ]
  },
  {
   "cell_type": "markdown",
   "metadata": {
    "id": "QDPoVsdMa4rh"
   },
   "source": [
    "import pandas as pd\n",
    "\n",
    "import csv\n",
    "\n",
    "with open(\"data_set.csv\",\"r\")as file:\n",
    "\n",
    "reader=csv.reader(file)\n",
    "df=pd.read_csv(\"data_set.csv\")\n",
    "\n",
    "df.head()"
   ]
  },
  {
   "cell_type": "code",
   "execution_count": 23,
   "metadata": {
    "scrolled": true
   },
   "outputs": [
    {
     "data": {
      "text/plain": [
       "Index(['pelvic_incidence', 'pelvic_tilt', 'lumbar_lordosis_angle',\n",
       "       'sacral_slope', 'pelvic_radius', 'degree_spondylolisthesis',\n",
       "       'pelvic_slope', 'Direct_tilt', 'thoracic_slope', 'cervical_tilt',\n",
       "       'sacrum_angle', 'scoliosis_slope', 'Attribute', 'Description'],\n",
       "      dtype='object')"
      ]
     },
     "execution_count": 23,
     "metadata": {},
     "output_type": "execute_result"
    }
   ],
   "source": [
    "df.columns"
   ]
  },
  {
   "cell_type": "code",
   "execution_count": 24,
   "metadata": {
    "id": "Fm59FZF1a4rn",
    "scrolled": true
   },
   "outputs": [
    {
     "name": "stdout",
     "output_type": "stream",
     "text": [
      "<class 'pandas.core.frame.DataFrame'>\n",
      "RangeIndex: 310 entries, 0 to 309\n",
      "Data columns (total 14 columns):\n",
      " #   Column                    Non-Null Count  Dtype  \n",
      "---  ------                    --------------  -----  \n",
      " 0   pelvic_incidence          310 non-null    float64\n",
      " 1   pelvic_tilt               310 non-null    float64\n",
      " 2   lumbar_lordosis_angle     310 non-null    float64\n",
      " 3   sacral_slope              310 non-null    float64\n",
      " 4   pelvic_radius             310 non-null    float64\n",
      " 5   degree_spondylolisthesis  310 non-null    float64\n",
      " 6   pelvic_slope              310 non-null    float64\n",
      " 7   Direct_tilt               310 non-null    float64\n",
      " 8   thoracic_slope            310 non-null    float64\n",
      " 9   cervical_tilt             310 non-null    float64\n",
      " 10  sacrum_angle              310 non-null    float64\n",
      " 11  scoliosis_slope           310 non-null    float64\n",
      " 12  Attribute                 310 non-null    object \n",
      " 13  Description               14 non-null     object \n",
      "dtypes: float64(12), object(2)\n",
      "memory usage: 34.0+ KB\n"
     ]
    }
   ],
   "source": [
    "df.info()"
   ]
  },
  {
   "cell_type": "markdown",
   "metadata": {},
   "source": [
    "There are 14 columns (12 numeric and 2 categorical features)"
   ]
  },
  {
   "cell_type": "code",
   "execution_count": 25,
   "metadata": {
    "scrolled": true
   },
   "outputs": [
    {
     "data": {
      "text/html": [
       "<div>\n",
       "<style scoped>\n",
       "    .dataframe tbody tr th:only-of-type {\n",
       "        vertical-align: middle;\n",
       "    }\n",
       "\n",
       "    .dataframe tbody tr th {\n",
       "        vertical-align: top;\n",
       "    }\n",
       "\n",
       "    .dataframe thead th {\n",
       "        text-align: right;\n",
       "    }\n",
       "</style>\n",
       "<table border=\"1\" class=\"dataframe\">\n",
       "  <thead>\n",
       "    <tr style=\"text-align: right;\">\n",
       "      <th></th>\n",
       "      <th>count</th>\n",
       "      <th>mean</th>\n",
       "      <th>std</th>\n",
       "      <th>min</th>\n",
       "      <th>25%</th>\n",
       "      <th>50%</th>\n",
       "      <th>75%</th>\n",
       "      <th>max</th>\n",
       "    </tr>\n",
       "  </thead>\n",
       "  <tbody>\n",
       "    <tr>\n",
       "      <th>pelvic_incidence</th>\n",
       "      <td>310.0</td>\n",
       "      <td>60.496653</td>\n",
       "      <td>17.236520</td>\n",
       "      <td>26.147921</td>\n",
       "      <td>46.430294</td>\n",
       "      <td>58.691038</td>\n",
       "      <td>72.877696</td>\n",
       "      <td>129.834041</td>\n",
       "    </tr>\n",
       "    <tr>\n",
       "      <th>pelvic_tilt</th>\n",
       "      <td>310.0</td>\n",
       "      <td>17.542822</td>\n",
       "      <td>10.008330</td>\n",
       "      <td>-6.554948</td>\n",
       "      <td>10.667069</td>\n",
       "      <td>16.357689</td>\n",
       "      <td>22.120395</td>\n",
       "      <td>49.431864</td>\n",
       "    </tr>\n",
       "    <tr>\n",
       "      <th>lumbar_lordosis_angle</th>\n",
       "      <td>310.0</td>\n",
       "      <td>51.930930</td>\n",
       "      <td>18.554064</td>\n",
       "      <td>14.000000</td>\n",
       "      <td>37.000000</td>\n",
       "      <td>49.562398</td>\n",
       "      <td>63.000000</td>\n",
       "      <td>125.742385</td>\n",
       "    </tr>\n",
       "    <tr>\n",
       "      <th>sacral_slope</th>\n",
       "      <td>310.0</td>\n",
       "      <td>42.953831</td>\n",
       "      <td>13.423102</td>\n",
       "      <td>13.366931</td>\n",
       "      <td>33.347122</td>\n",
       "      <td>42.404912</td>\n",
       "      <td>52.695888</td>\n",
       "      <td>121.429566</td>\n",
       "    </tr>\n",
       "    <tr>\n",
       "      <th>pelvic_radius</th>\n",
       "      <td>310.0</td>\n",
       "      <td>117.920655</td>\n",
       "      <td>13.317377</td>\n",
       "      <td>70.082575</td>\n",
       "      <td>110.709196</td>\n",
       "      <td>118.268178</td>\n",
       "      <td>125.467674</td>\n",
       "      <td>163.071041</td>\n",
       "    </tr>\n",
       "    <tr>\n",
       "      <th>degree_spondylolisthesis</th>\n",
       "      <td>310.0</td>\n",
       "      <td>26.296694</td>\n",
       "      <td>37.559027</td>\n",
       "      <td>-11.058179</td>\n",
       "      <td>1.603727</td>\n",
       "      <td>11.767934</td>\n",
       "      <td>41.287352</td>\n",
       "      <td>418.543082</td>\n",
       "    </tr>\n",
       "    <tr>\n",
       "      <th>pelvic_slope</th>\n",
       "      <td>310.0</td>\n",
       "      <td>0.472979</td>\n",
       "      <td>0.285787</td>\n",
       "      <td>0.003220</td>\n",
       "      <td>0.224367</td>\n",
       "      <td>0.475989</td>\n",
       "      <td>0.704846</td>\n",
       "      <td>0.998827</td>\n",
       "    </tr>\n",
       "    <tr>\n",
       "      <th>Direct_tilt</th>\n",
       "      <td>310.0</td>\n",
       "      <td>21.321526</td>\n",
       "      <td>8.639423</td>\n",
       "      <td>7.027000</td>\n",
       "      <td>13.054400</td>\n",
       "      <td>21.907150</td>\n",
       "      <td>28.954075</td>\n",
       "      <td>36.743900</td>\n",
       "    </tr>\n",
       "    <tr>\n",
       "      <th>thoracic_slope</th>\n",
       "      <td>310.0</td>\n",
       "      <td>13.064511</td>\n",
       "      <td>3.399713</td>\n",
       "      <td>7.037800</td>\n",
       "      <td>10.417800</td>\n",
       "      <td>12.938450</td>\n",
       "      <td>15.889525</td>\n",
       "      <td>19.324000</td>\n",
       "    </tr>\n",
       "    <tr>\n",
       "      <th>cervical_tilt</th>\n",
       "      <td>310.0</td>\n",
       "      <td>11.933317</td>\n",
       "      <td>2.893265</td>\n",
       "      <td>7.030600</td>\n",
       "      <td>9.541140</td>\n",
       "      <td>11.953835</td>\n",
       "      <td>14.371810</td>\n",
       "      <td>16.821080</td>\n",
       "    </tr>\n",
       "    <tr>\n",
       "      <th>sacrum_angle</th>\n",
       "      <td>310.0</td>\n",
       "      <td>-14.053139</td>\n",
       "      <td>12.225582</td>\n",
       "      <td>-35.287375</td>\n",
       "      <td>-24.289522</td>\n",
       "      <td>-14.622856</td>\n",
       "      <td>-3.497094</td>\n",
       "      <td>6.972071</td>\n",
       "    </tr>\n",
       "    <tr>\n",
       "      <th>scoliosis_slope</th>\n",
       "      <td>310.0</td>\n",
       "      <td>25.645981</td>\n",
       "      <td>10.450558</td>\n",
       "      <td>7.007900</td>\n",
       "      <td>17.189075</td>\n",
       "      <td>24.931950</td>\n",
       "      <td>33.979600</td>\n",
       "      <td>44.341200</td>\n",
       "    </tr>\n",
       "  </tbody>\n",
       "</table>\n",
       "</div>"
      ],
      "text/plain": [
       "                          count        mean        std        min         25%  \\\n",
       "pelvic_incidence          310.0   60.496653  17.236520  26.147921   46.430294   \n",
       "pelvic_tilt               310.0   17.542822  10.008330  -6.554948   10.667069   \n",
       "lumbar_lordosis_angle     310.0   51.930930  18.554064  14.000000   37.000000   \n",
       "sacral_slope              310.0   42.953831  13.423102  13.366931   33.347122   \n",
       "pelvic_radius             310.0  117.920655  13.317377  70.082575  110.709196   \n",
       "degree_spondylolisthesis  310.0   26.296694  37.559027 -11.058179    1.603727   \n",
       "pelvic_slope              310.0    0.472979   0.285787   0.003220    0.224367   \n",
       "Direct_tilt               310.0   21.321526   8.639423   7.027000   13.054400   \n",
       "thoracic_slope            310.0   13.064511   3.399713   7.037800   10.417800   \n",
       "cervical_tilt             310.0   11.933317   2.893265   7.030600    9.541140   \n",
       "sacrum_angle              310.0  -14.053139  12.225582 -35.287375  -24.289522   \n",
       "scoliosis_slope           310.0   25.645981  10.450558   7.007900   17.189075   \n",
       "\n",
       "                                 50%         75%         max  \n",
       "pelvic_incidence           58.691038   72.877696  129.834041  \n",
       "pelvic_tilt                16.357689   22.120395   49.431864  \n",
       "lumbar_lordosis_angle      49.562398   63.000000  125.742385  \n",
       "sacral_slope               42.404912   52.695888  121.429566  \n",
       "pelvic_radius             118.268178  125.467674  163.071041  \n",
       "degree_spondylolisthesis   11.767934   41.287352  418.543082  \n",
       "pelvic_slope                0.475989    0.704846    0.998827  \n",
       "Direct_tilt                21.907150   28.954075   36.743900  \n",
       "thoracic_slope             12.938450   15.889525   19.324000  \n",
       "cervical_tilt              11.953835   14.371810   16.821080  \n",
       "sacrum_angle              -14.622856   -3.497094    6.972071  \n",
       "scoliosis_slope            24.931950   33.979600   44.341200  "
      ]
     },
     "execution_count": 25,
     "metadata": {},
     "output_type": "execute_result"
    }
   ],
   "source": [
    "df.describe().T"
   ]
  },
  {
   "cell_type": "markdown",
   "metadata": {},
   "source": [
    "From this data we can say that degree_spondylolisthesis has some extreme outliers\n",
    "and Sacrum_angle has negative ranges"
   ]
  },
  {
   "cell_type": "code",
   "execution_count": 28,
   "metadata": {},
   "outputs": [],
   "source": [
    "cat_df = df.select_dtypes(exclude = np.number)"
   ]
  },
  {
   "cell_type": "code",
   "execution_count": 34,
   "metadata": {},
   "outputs": [
    {
     "name": "stdout",
     "output_type": "stream",
     "text": [
      "Attribute :\n",
      "Abnormal    210\n",
      "Normal      100\n",
      "Name: Attribute, dtype: int64 \n",
      "\n",
      "Description :\n",
      " Attribute12= scoliosis_slope(numeric)                1\n",
      "Prediction is done by using binary classification.    1\n",
      "Attribute5 = pelvic_radius (numeric)                  1\n",
      "Attribute2 = pelvic_tilt (numeric)                    1\n",
      " Attribute8= Direct_tilt(numeric)                     1\n",
      " Attribute10= cervical_tilt(numeric)                  1\n",
      "Attribute1  = pelvic_incidence  (numeric)             1\n",
      "Attribute3 = lumbar_lordosis_angle (numeric)          1\n",
      " Attribute7= pelvic_slope(numeric)                    1\n",
      "Attribute6 = degree_spondylolisthesis (numeric)       1\n",
      "Attribute class {Abnormal, Normal}                    1\n",
      " Attribute11=sacrum_angle(numeric)                    1\n",
      " Attribute9= thoracic_slope(numeric)                  1\n",
      "Attribute4 = sacral_slope (numeric)                   1\n",
      "Name: Description, dtype: int64 \n",
      "\n"
     ]
    }
   ],
   "source": [
    "for col in cat_df.columns:\n",
    "    print(col,''':''')\n",
    "    print(df[col].value_counts(),'\\n')\n",
    "\n",
    "\n"
   ]
  },
  {
   "cell_type": "code",
   "execution_count": 100,
   "metadata": {},
   "outputs": [],
   "source": [
    "data = df.copy()\n",
    "data.drop(columns = 'Description',inplace=True)"
   ]
  },
  {
   "cell_type": "code",
   "execution_count": 101,
   "metadata": {},
   "outputs": [],
   "source": [
    "cat_data = df.select_dtypes(exclude = np.number)\n",
    "num_data = df.select_dtypes(include = np.number)"
   ]
  },
  {
   "cell_type": "code",
   "execution_count": 102,
   "metadata": {},
   "outputs": [],
   "source": [
    "data['numeric_target'] = data['Attribute'].map({'Abnormal':0,'Normal':1})"
   ]
  },
  {
   "cell_type": "code",
   "execution_count": 103,
   "metadata": {
    "id": "ZOxs9W80a4r-"
   },
   "outputs": [
    {
     "data": {
      "text/html": [
       "<div>\n",
       "<style scoped>\n",
       "    .dataframe tbody tr th:only-of-type {\n",
       "        vertical-align: middle;\n",
       "    }\n",
       "\n",
       "    .dataframe tbody tr th {\n",
       "        vertical-align: top;\n",
       "    }\n",
       "\n",
       "    .dataframe thead th {\n",
       "        text-align: right;\n",
       "    }\n",
       "</style>\n",
       "<table border=\"1\" class=\"dataframe\">\n",
       "  <thead>\n",
       "    <tr style=\"text-align: right;\">\n",
       "      <th></th>\n",
       "      <th>pelvic_incidence</th>\n",
       "      <th>pelvic_tilt</th>\n",
       "      <th>lumbar_lordosis_angle</th>\n",
       "      <th>sacral_slope</th>\n",
       "      <th>pelvic_radius</th>\n",
       "      <th>degree_spondylolisthesis</th>\n",
       "      <th>pelvic_slope</th>\n",
       "      <th>Direct_tilt</th>\n",
       "      <th>thoracic_slope</th>\n",
       "      <th>cervical_tilt</th>\n",
       "      <th>sacrum_angle</th>\n",
       "      <th>scoliosis_slope</th>\n",
       "      <th>Attribute</th>\n",
       "      <th>numeric_target</th>\n",
       "    </tr>\n",
       "  </thead>\n",
       "  <tbody>\n",
       "    <tr>\n",
       "      <th>0</th>\n",
       "      <td>63.027817</td>\n",
       "      <td>22.552586</td>\n",
       "      <td>39.609117</td>\n",
       "      <td>40.475232</td>\n",
       "      <td>98.672917</td>\n",
       "      <td>-0.254400</td>\n",
       "      <td>0.744503</td>\n",
       "      <td>12.5661</td>\n",
       "      <td>14.5386</td>\n",
       "      <td>15.30468</td>\n",
       "      <td>-28.658501</td>\n",
       "      <td>43.5123</td>\n",
       "      <td>Abnormal</td>\n",
       "      <td>0</td>\n",
       "    </tr>\n",
       "    <tr>\n",
       "      <th>1</th>\n",
       "      <td>39.056951</td>\n",
       "      <td>10.060991</td>\n",
       "      <td>25.015378</td>\n",
       "      <td>28.995960</td>\n",
       "      <td>114.405425</td>\n",
       "      <td>4.564259</td>\n",
       "      <td>0.415186</td>\n",
       "      <td>12.8874</td>\n",
       "      <td>17.5323</td>\n",
       "      <td>16.78486</td>\n",
       "      <td>-25.530607</td>\n",
       "      <td>16.1102</td>\n",
       "      <td>Abnormal</td>\n",
       "      <td>0</td>\n",
       "    </tr>\n",
       "    <tr>\n",
       "      <th>2</th>\n",
       "      <td>68.832021</td>\n",
       "      <td>22.218482</td>\n",
       "      <td>50.092194</td>\n",
       "      <td>46.613539</td>\n",
       "      <td>105.985135</td>\n",
       "      <td>-3.530317</td>\n",
       "      <td>0.474889</td>\n",
       "      <td>26.8343</td>\n",
       "      <td>17.4861</td>\n",
       "      <td>16.65897</td>\n",
       "      <td>-29.031888</td>\n",
       "      <td>19.2221</td>\n",
       "      <td>Abnormal</td>\n",
       "      <td>0</td>\n",
       "    </tr>\n",
       "    <tr>\n",
       "      <th>3</th>\n",
       "      <td>69.297008</td>\n",
       "      <td>24.652878</td>\n",
       "      <td>44.311238</td>\n",
       "      <td>44.644130</td>\n",
       "      <td>101.868495</td>\n",
       "      <td>11.211523</td>\n",
       "      <td>0.369345</td>\n",
       "      <td>23.5603</td>\n",
       "      <td>12.7074</td>\n",
       "      <td>11.42447</td>\n",
       "      <td>-30.470246</td>\n",
       "      <td>18.8329</td>\n",
       "      <td>Abnormal</td>\n",
       "      <td>0</td>\n",
       "    </tr>\n",
       "    <tr>\n",
       "      <th>4</th>\n",
       "      <td>49.712859</td>\n",
       "      <td>9.652075</td>\n",
       "      <td>28.317406</td>\n",
       "      <td>40.060784</td>\n",
       "      <td>108.168725</td>\n",
       "      <td>7.918501</td>\n",
       "      <td>0.543360</td>\n",
       "      <td>35.4940</td>\n",
       "      <td>15.9546</td>\n",
       "      <td>8.87237</td>\n",
       "      <td>-16.378376</td>\n",
       "      <td>24.9171</td>\n",
       "      <td>Abnormal</td>\n",
       "      <td>0</td>\n",
       "    </tr>\n",
       "    <tr>\n",
       "      <th>...</th>\n",
       "      <td>...</td>\n",
       "      <td>...</td>\n",
       "      <td>...</td>\n",
       "      <td>...</td>\n",
       "      <td>...</td>\n",
       "      <td>...</td>\n",
       "      <td>...</td>\n",
       "      <td>...</td>\n",
       "      <td>...</td>\n",
       "      <td>...</td>\n",
       "      <td>...</td>\n",
       "      <td>...</td>\n",
       "      <td>...</td>\n",
       "      <td>...</td>\n",
       "    </tr>\n",
       "    <tr>\n",
       "      <th>305</th>\n",
       "      <td>47.903565</td>\n",
       "      <td>13.616688</td>\n",
       "      <td>36.000000</td>\n",
       "      <td>34.286877</td>\n",
       "      <td>117.449062</td>\n",
       "      <td>-4.245395</td>\n",
       "      <td>0.129744</td>\n",
       "      <td>7.8433</td>\n",
       "      <td>14.7484</td>\n",
       "      <td>8.51707</td>\n",
       "      <td>-15.728927</td>\n",
       "      <td>11.5472</td>\n",
       "      <td>Normal</td>\n",
       "      <td>1</td>\n",
       "    </tr>\n",
       "    <tr>\n",
       "      <th>306</th>\n",
       "      <td>53.936748</td>\n",
       "      <td>20.721496</td>\n",
       "      <td>29.220534</td>\n",
       "      <td>33.215251</td>\n",
       "      <td>114.365845</td>\n",
       "      <td>-0.421010</td>\n",
       "      <td>0.047913</td>\n",
       "      <td>19.1986</td>\n",
       "      <td>18.1972</td>\n",
       "      <td>7.08745</td>\n",
       "      <td>6.013843</td>\n",
       "      <td>43.8693</td>\n",
       "      <td>Normal</td>\n",
       "      <td>1</td>\n",
       "    </tr>\n",
       "    <tr>\n",
       "      <th>307</th>\n",
       "      <td>61.446597</td>\n",
       "      <td>22.694968</td>\n",
       "      <td>46.170347</td>\n",
       "      <td>38.751628</td>\n",
       "      <td>125.670725</td>\n",
       "      <td>-2.707880</td>\n",
       "      <td>0.081070</td>\n",
       "      <td>16.2059</td>\n",
       "      <td>13.5565</td>\n",
       "      <td>8.89572</td>\n",
       "      <td>3.564463</td>\n",
       "      <td>18.4151</td>\n",
       "      <td>Normal</td>\n",
       "      <td>1</td>\n",
       "    </tr>\n",
       "    <tr>\n",
       "      <th>308</th>\n",
       "      <td>45.252792</td>\n",
       "      <td>8.693157</td>\n",
       "      <td>41.583126</td>\n",
       "      <td>36.559635</td>\n",
       "      <td>118.545842</td>\n",
       "      <td>0.214750</td>\n",
       "      <td>0.159251</td>\n",
       "      <td>14.7334</td>\n",
       "      <td>16.0928</td>\n",
       "      <td>9.75922</td>\n",
       "      <td>5.767308</td>\n",
       "      <td>33.7192</td>\n",
       "      <td>Normal</td>\n",
       "      <td>1</td>\n",
       "    </tr>\n",
       "    <tr>\n",
       "      <th>309</th>\n",
       "      <td>33.841641</td>\n",
       "      <td>5.073991</td>\n",
       "      <td>36.641233</td>\n",
       "      <td>28.767649</td>\n",
       "      <td>123.945244</td>\n",
       "      <td>-0.199249</td>\n",
       "      <td>0.674504</td>\n",
       "      <td>19.3825</td>\n",
       "      <td>17.6963</td>\n",
       "      <td>13.72929</td>\n",
       "      <td>1.783007</td>\n",
       "      <td>40.6049</td>\n",
       "      <td>Normal</td>\n",
       "      <td>1</td>\n",
       "    </tr>\n",
       "  </tbody>\n",
       "</table>\n",
       "<p>310 rows × 14 columns</p>\n",
       "</div>"
      ],
      "text/plain": [
       "     pelvic_incidence  pelvic_tilt  lumbar_lordosis_angle  sacral_slope  \\\n",
       "0           63.027817    22.552586              39.609117     40.475232   \n",
       "1           39.056951    10.060991              25.015378     28.995960   \n",
       "2           68.832021    22.218482              50.092194     46.613539   \n",
       "3           69.297008    24.652878              44.311238     44.644130   \n",
       "4           49.712859     9.652075              28.317406     40.060784   \n",
       "..                ...          ...                    ...           ...   \n",
       "305         47.903565    13.616688              36.000000     34.286877   \n",
       "306         53.936748    20.721496              29.220534     33.215251   \n",
       "307         61.446597    22.694968              46.170347     38.751628   \n",
       "308         45.252792     8.693157              41.583126     36.559635   \n",
       "309         33.841641     5.073991              36.641233     28.767649   \n",
       "\n",
       "     pelvic_radius  degree_spondylolisthesis  pelvic_slope  Direct_tilt  \\\n",
       "0        98.672917                 -0.254400      0.744503      12.5661   \n",
       "1       114.405425                  4.564259      0.415186      12.8874   \n",
       "2       105.985135                 -3.530317      0.474889      26.8343   \n",
       "3       101.868495                 11.211523      0.369345      23.5603   \n",
       "4       108.168725                  7.918501      0.543360      35.4940   \n",
       "..             ...                       ...           ...          ...   \n",
       "305     117.449062                 -4.245395      0.129744       7.8433   \n",
       "306     114.365845                 -0.421010      0.047913      19.1986   \n",
       "307     125.670725                 -2.707880      0.081070      16.2059   \n",
       "308     118.545842                  0.214750      0.159251      14.7334   \n",
       "309     123.945244                 -0.199249      0.674504      19.3825   \n",
       "\n",
       "     thoracic_slope  cervical_tilt  sacrum_angle  scoliosis_slope Attribute  \\\n",
       "0           14.5386       15.30468    -28.658501          43.5123  Abnormal   \n",
       "1           17.5323       16.78486    -25.530607          16.1102  Abnormal   \n",
       "2           17.4861       16.65897    -29.031888          19.2221  Abnormal   \n",
       "3           12.7074       11.42447    -30.470246          18.8329  Abnormal   \n",
       "4           15.9546        8.87237    -16.378376          24.9171  Abnormal   \n",
       "..              ...            ...           ...              ...       ...   \n",
       "305         14.7484        8.51707    -15.728927          11.5472    Normal   \n",
       "306         18.1972        7.08745      6.013843          43.8693    Normal   \n",
       "307         13.5565        8.89572      3.564463          18.4151    Normal   \n",
       "308         16.0928        9.75922      5.767308          33.7192    Normal   \n",
       "309         17.6963       13.72929      1.783007          40.6049    Normal   \n",
       "\n",
       "     numeric_target  \n",
       "0                 0  \n",
       "1                 0  \n",
       "2                 0  \n",
       "3                 0  \n",
       "4                 0  \n",
       "..              ...  \n",
       "305               1  \n",
       "306               1  \n",
       "307               1  \n",
       "308               1  \n",
       "309               1  \n",
       "\n",
       "[310 rows x 14 columns]"
      ]
     },
     "execution_count": 103,
     "metadata": {},
     "output_type": "execute_result"
    }
   ],
   "source": [
    "data"
   ]
  },
  {
   "cell_type": "code",
   "execution_count": 104,
   "metadata": {},
   "outputs": [
    {
     "data": {
      "text/plain": [
       "<matplotlib.axes._subplots.AxesSubplot at 0x7f4b9f4befd0>"
      ]
     },
     "execution_count": 104,
     "metadata": {},
     "output_type": "execute_result"
    },
    {
     "data": {
      "image/png": "[encoded data removed]",
      "text/plain": [
       "<Figure size 1080x576 with 2 Axes>"
      ]
     },
     "metadata": {
      "needs_background": "light"
     },
     "output_type": "display_data"
    }
   ],
   "source": [
    "plt.figure(figsize=(15,8))\n",
    "sns.heatmap(data.corr(),annot=True,mask=np.triu(data.corr(),+1))"
   ]
  },
  {
   "cell_type": "markdown",
   "metadata": {},
   "source": [
    "data['pelvic_incidence','pelvic_tilt','lumbar_lordosis_angle','sacral_score','degree_spondylolisthesis'] are Important negative correlated features"
   ]
  },
  {
   "cell_type": "markdown",
   "metadata": {},
   "source": [
    " even though these pelvic_slope,Direct_title,Thoraic_slope,cervial_tilr,sacrum_angel,scoliosis_slope are low correlated with target to build the basemodel taking these features in account"
   ]
  },
  {
   "cell_type": "code",
   "execution_count": 105,
   "metadata": {},
   "outputs": [],
   "source": [
    "data.drop(columns='Attribute',inplace=True)"
   ]
  },
  {
   "cell_type": "code",
   "execution_count": 106,
   "metadata": {
    "scrolled": true
   },
   "outputs": [
    {
     "data": {
      "text/html": [
       "<div>\n",
       "<style scoped>\n",
       "    .dataframe tbody tr th:only-of-type {\n",
       "        vertical-align: middle;\n",
       "    }\n",
       "\n",
       "    .dataframe tbody tr th {\n",
       "        vertical-align: top;\n",
       "    }\n",
       "\n",
       "    .dataframe thead th {\n",
       "        text-align: right;\n",
       "    }\n",
       "</style>\n",
       "<table border=\"1\" class=\"dataframe\">\n",
       "  <thead>\n",
       "    <tr style=\"text-align: right;\">\n",
       "      <th></th>\n",
       "      <th>pelvic_incidence</th>\n",
       "      <th>pelvic_tilt</th>\n",
       "      <th>lumbar_lordosis_angle</th>\n",
       "      <th>sacral_slope</th>\n",
       "      <th>pelvic_radius</th>\n",
       "      <th>degree_spondylolisthesis</th>\n",
       "      <th>pelvic_slope</th>\n",
       "      <th>Direct_tilt</th>\n",
       "      <th>thoracic_slope</th>\n",
       "      <th>cervical_tilt</th>\n",
       "      <th>sacrum_angle</th>\n",
       "      <th>scoliosis_slope</th>\n",
       "    </tr>\n",
       "  </thead>\n",
       "  <tbody>\n",
       "    <tr>\n",
       "      <th>0</th>\n",
       "      <td>0.147086</td>\n",
       "      <td>0.501369</td>\n",
       "      <td>-0.665177</td>\n",
       "      <td>-0.184950</td>\n",
       "      <td>-1.447647</td>\n",
       "      <td>-0.708059</td>\n",
       "      <td>0.951630</td>\n",
       "      <td>-1.015066</td>\n",
       "      <td>0.434293</td>\n",
       "      <td>1.167129</td>\n",
       "      <td>-1.196587</td>\n",
       "      <td>1.712368</td>\n",
       "    </tr>\n",
       "    <tr>\n",
       "      <th>1</th>\n",
       "      <td>-1.245864</td>\n",
       "      <td>-0.748769</td>\n",
       "      <td>-1.453001</td>\n",
       "      <td>-1.041521</td>\n",
       "      <td>-0.264385</td>\n",
       "      <td>-0.579556</td>\n",
       "      <td>-0.202553</td>\n",
       "      <td>-0.977816</td>\n",
       "      <td>1.316291</td>\n",
       "      <td>1.679551</td>\n",
       "      <td>-0.940325</td>\n",
       "      <td>-0.913941</td>\n",
       "    </tr>\n",
       "    <tr>\n",
       "      <th>2</th>\n",
       "      <td>0.484370</td>\n",
       "      <td>0.467932</td>\n",
       "      <td>-0.099262</td>\n",
       "      <td>0.273083</td>\n",
       "      <td>-0.897686</td>\n",
       "      <td>-0.795421</td>\n",
       "      <td>0.006694</td>\n",
       "      <td>0.639127</td>\n",
       "      <td>1.302680</td>\n",
       "      <td>1.635969</td>\n",
       "      <td>-1.227178</td>\n",
       "      <td>-0.615686</td>\n",
       "    </tr>\n",
       "    <tr>\n",
       "      <th>3</th>\n",
       "      <td>0.511390</td>\n",
       "      <td>0.711562</td>\n",
       "      <td>-0.411339</td>\n",
       "      <td>0.126128</td>\n",
       "      <td>-1.207303</td>\n",
       "      <td>-0.402288</td>\n",
       "      <td>-0.363213</td>\n",
       "      <td>0.259554</td>\n",
       "      <td>-0.105211</td>\n",
       "      <td>-0.176157</td>\n",
       "      <td>-1.345020</td>\n",
       "      <td>-0.652989</td>\n",
       "    </tr>\n",
       "    <tr>\n",
       "      <th>4</th>\n",
       "      <td>-0.626648</td>\n",
       "      <td>-0.789693</td>\n",
       "      <td>-1.274745</td>\n",
       "      <td>-0.215876</td>\n",
       "      <td>-0.733455</td>\n",
       "      <td>-0.490106</td>\n",
       "      <td>0.246670</td>\n",
       "      <td>1.643094</td>\n",
       "      <td>0.851472</td>\n",
       "      <td>-1.059666</td>\n",
       "      <td>-0.190502</td>\n",
       "      <td>-0.069858</td>\n",
       "    </tr>\n",
       "    <tr>\n",
       "      <th>...</th>\n",
       "      <td>...</td>\n",
       "      <td>...</td>\n",
       "      <td>...</td>\n",
       "      <td>...</td>\n",
       "      <td>...</td>\n",
       "      <td>...</td>\n",
       "      <td>...</td>\n",
       "      <td>...</td>\n",
       "      <td>...</td>\n",
       "      <td>...</td>\n",
       "      <td>...</td>\n",
       "      <td>...</td>\n",
       "    </tr>\n",
       "    <tr>\n",
       "      <th>305</th>\n",
       "      <td>-0.731786</td>\n",
       "      <td>-0.392921</td>\n",
       "      <td>-0.860010</td>\n",
       "      <td>-0.646718</td>\n",
       "      <td>-0.035469</td>\n",
       "      <td>-0.814491</td>\n",
       "      <td>-1.202961</td>\n",
       "      <td>-1.562606</td>\n",
       "      <td>0.496104</td>\n",
       "      <td>-1.182667</td>\n",
       "      <td>-0.137294</td>\n",
       "      <td>-1.351275</td>\n",
       "    </tr>\n",
       "    <tr>\n",
       "      <th>306</th>\n",
       "      <td>-0.381197</td>\n",
       "      <td>0.318116</td>\n",
       "      <td>-1.225991</td>\n",
       "      <td>-0.726682</td>\n",
       "      <td>-0.267362</td>\n",
       "      <td>-0.712503</td>\n",
       "      <td>-1.489758</td>\n",
       "      <td>-0.246123</td>\n",
       "      <td>1.512183</td>\n",
       "      <td>-1.677586</td>\n",
       "      <td>1.644047</td>\n",
       "      <td>1.746585</td>\n",
       "    </tr>\n",
       "    <tr>\n",
       "      <th>307</th>\n",
       "      <td>0.055201</td>\n",
       "      <td>0.515618</td>\n",
       "      <td>-0.310977</td>\n",
       "      <td>-0.313564</td>\n",
       "      <td>0.582893</td>\n",
       "      <td>-0.773488</td>\n",
       "      <td>-1.373550</td>\n",
       "      <td>-0.593083</td>\n",
       "      <td>0.144949</td>\n",
       "      <td>-1.051583</td>\n",
       "      <td>1.443374</td>\n",
       "      <td>-0.693032</td>\n",
       "    </tr>\n",
       "    <tr>\n",
       "      <th>308</th>\n",
       "      <td>-0.885823</td>\n",
       "      <td>-0.885660</td>\n",
       "      <td>-0.558613</td>\n",
       "      <td>-0.477128</td>\n",
       "      <td>0.047021</td>\n",
       "      <td>-0.695548</td>\n",
       "      <td>-1.099547</td>\n",
       "      <td>-0.763798</td>\n",
       "      <td>0.892189</td>\n",
       "      <td>-0.752649</td>\n",
       "      <td>1.623849</td>\n",
       "      <td>0.773765</td>\n",
       "    </tr>\n",
       "    <tr>\n",
       "      <th>309</th>\n",
       "      <td>-1.548927</td>\n",
       "      <td>-1.247860</td>\n",
       "      <td>-0.825394</td>\n",
       "      <td>-1.058557</td>\n",
       "      <td>0.453117</td>\n",
       "      <td>-0.706589</td>\n",
       "      <td>0.706298</td>\n",
       "      <td>-0.224802</td>\n",
       "      <td>1.364609</td>\n",
       "      <td>0.621746</td>\n",
       "      <td>1.297423</td>\n",
       "      <td>1.433713</td>\n",
       "    </tr>\n",
       "  </tbody>\n",
       "</table>\n",
       "<p>310 rows × 12 columns</p>\n",
       "</div>"
      ],
      "text/plain": [
       "     pelvic_incidence  pelvic_tilt  lumbar_lordosis_angle  sacral_slope  \\\n",
       "0            0.147086     0.501369              -0.665177     -0.184950   \n",
       "1           -1.245864    -0.748769              -1.453001     -1.041521   \n",
       "2            0.484370     0.467932              -0.099262      0.273083   \n",
       "3            0.511390     0.711562              -0.411339      0.126128   \n",
       "4           -0.626648    -0.789693              -1.274745     -0.215876   \n",
       "..                ...          ...                    ...           ...   \n",
       "305         -0.731786    -0.392921              -0.860010     -0.646718   \n",
       "306         -0.381197     0.318116              -1.225991     -0.726682   \n",
       "307          0.055201     0.515618              -0.310977     -0.313564   \n",
       "308         -0.885823    -0.885660              -0.558613     -0.477128   \n",
       "309         -1.548927    -1.247860              -0.825394     -1.058557   \n",
       "\n",
       "     pelvic_radius  degree_spondylolisthesis  pelvic_slope  Direct_tilt  \\\n",
       "0        -1.447647                 -0.708059      0.951630    -1.015066   \n",
       "1        -0.264385                 -0.579556     -0.202553    -0.977816   \n",
       "2        -0.897686                 -0.795421      0.006694     0.639127   \n",
       "3        -1.207303                 -0.402288     -0.363213     0.259554   \n",
       "4        -0.733455                 -0.490106      0.246670     1.643094   \n",
       "..             ...                       ...           ...          ...   \n",
       "305      -0.035469                 -0.814491     -1.202961    -1.562606   \n",
       "306      -0.267362                 -0.712503     -1.489758    -0.246123   \n",
       "307       0.582893                 -0.773488     -1.373550    -0.593083   \n",
       "308       0.047021                 -0.695548     -1.099547    -0.763798   \n",
       "309       0.453117                 -0.706589      0.706298    -0.224802   \n",
       "\n",
       "     thoracic_slope  cervical_tilt  sacrum_angle  scoliosis_slope  \n",
       "0          0.434293       1.167129     -1.196587         1.712368  \n",
       "1          1.316291       1.679551     -0.940325        -0.913941  \n",
       "2          1.302680       1.635969     -1.227178        -0.615686  \n",
       "3         -0.105211      -0.176157     -1.345020        -0.652989  \n",
       "4          0.851472      -1.059666     -0.190502        -0.069858  \n",
       "..              ...            ...           ...              ...  \n",
       "305        0.496104      -1.182667     -0.137294        -1.351275  \n",
       "306        1.512183      -1.677586      1.644047         1.746585  \n",
       "307        0.144949      -1.051583      1.443374        -0.693032  \n",
       "308        0.892189      -0.752649      1.623849         0.773765  \n",
       "309        1.364609       0.621746      1.297423         1.433713  \n",
       "\n",
       "[310 rows x 12 columns]"
      ]
     },
     "execution_count": 106,
     "metadata": {},
     "output_type": "execute_result"
    }
   ],
   "source": [
    "scale = StandardScaler()\n",
    "scaled_data = scale.fit_transform(num_data)\n",
    "num_data = pd.DataFrame(data=scaled_data,columns=num_data.columns)\n",
    "num_data"
   ]
  },
  {
   "cell_type": "code",
   "execution_count": 109,
   "metadata": {},
   "outputs": [],
   "source": [
    "data_s = num_data"
   ]
  },
  {
   "cell_type": "code",
   "execution_count": 110,
   "metadata": {},
   "outputs": [],
   "source": [
    "data_s['target'] = data['numeric_target']"
   ]
  },
  {
   "cell_type": "code",
   "execution_count": 111,
   "metadata": {},
   "outputs": [
    {
     "data": {
      "text/html": [
       "<div>\n",
       "<style scoped>\n",
       "    .dataframe tbody tr th:only-of-type {\n",
       "        vertical-align: middle;\n",
       "    }\n",
       "\n",
       "    .dataframe tbody tr th {\n",
       "        vertical-align: top;\n",
       "    }\n",
       "\n",
       "    .dataframe thead th {\n",
       "        text-align: right;\n",
       "    }\n",
       "</style>\n",
       "<table border=\"1\" class=\"dataframe\">\n",
       "  <thead>\n",
       "    <tr style=\"text-align: right;\">\n",
       "      <th></th>\n",
       "      <th>pelvic_incidence</th>\n",
       "      <th>pelvic_tilt</th>\n",
       "      <th>lumbar_lordosis_angle</th>\n",
       "      <th>sacral_slope</th>\n",
       "      <th>pelvic_radius</th>\n",
       "      <th>degree_spondylolisthesis</th>\n",
       "      <th>pelvic_slope</th>\n",
       "      <th>Direct_tilt</th>\n",
       "      <th>thoracic_slope</th>\n",
       "      <th>cervical_tilt</th>\n",
       "      <th>sacrum_angle</th>\n",
       "      <th>scoliosis_slope</th>\n",
       "      <th>target</th>\n",
       "    </tr>\n",
       "  </thead>\n",
       "  <tbody>\n",
       "    <tr>\n",
       "      <th>0</th>\n",
       "      <td>0.147086</td>\n",
       "      <td>0.501369</td>\n",
       "      <td>-0.665177</td>\n",
       "      <td>-0.184950</td>\n",
       "      <td>-1.447647</td>\n",
       "      <td>-0.708059</td>\n",
       "      <td>0.951630</td>\n",
       "      <td>-1.015066</td>\n",
       "      <td>0.434293</td>\n",
       "      <td>1.167129</td>\n",
       "      <td>-1.196587</td>\n",
       "      <td>1.712368</td>\n",
       "      <td>0</td>\n",
       "    </tr>\n",
       "    <tr>\n",
       "      <th>1</th>\n",
       "      <td>-1.245864</td>\n",
       "      <td>-0.748769</td>\n",
       "      <td>-1.453001</td>\n",
       "      <td>-1.041521</td>\n",
       "      <td>-0.264385</td>\n",
       "      <td>-0.579556</td>\n",
       "      <td>-0.202553</td>\n",
       "      <td>-0.977816</td>\n",
       "      <td>1.316291</td>\n",
       "      <td>1.679551</td>\n",
       "      <td>-0.940325</td>\n",
       "      <td>-0.913941</td>\n",
       "      <td>0</td>\n",
       "    </tr>\n",
       "    <tr>\n",
       "      <th>2</th>\n",
       "      <td>0.484370</td>\n",
       "      <td>0.467932</td>\n",
       "      <td>-0.099262</td>\n",
       "      <td>0.273083</td>\n",
       "      <td>-0.897686</td>\n",
       "      <td>-0.795421</td>\n",
       "      <td>0.006694</td>\n",
       "      <td>0.639127</td>\n",
       "      <td>1.302680</td>\n",
       "      <td>1.635969</td>\n",
       "      <td>-1.227178</td>\n",
       "      <td>-0.615686</td>\n",
       "      <td>0</td>\n",
       "    </tr>\n",
       "    <tr>\n",
       "      <th>3</th>\n",
       "      <td>0.511390</td>\n",
       "      <td>0.711562</td>\n",
       "      <td>-0.411339</td>\n",
       "      <td>0.126128</td>\n",
       "      <td>-1.207303</td>\n",
       "      <td>-0.402288</td>\n",
       "      <td>-0.363213</td>\n",
       "      <td>0.259554</td>\n",
       "      <td>-0.105211</td>\n",
       "      <td>-0.176157</td>\n",
       "      <td>-1.345020</td>\n",
       "      <td>-0.652989</td>\n",
       "      <td>0</td>\n",
       "    </tr>\n",
       "    <tr>\n",
       "      <th>4</th>\n",
       "      <td>-0.626648</td>\n",
       "      <td>-0.789693</td>\n",
       "      <td>-1.274745</td>\n",
       "      <td>-0.215876</td>\n",
       "      <td>-0.733455</td>\n",
       "      <td>-0.490106</td>\n",
       "      <td>0.246670</td>\n",
       "      <td>1.643094</td>\n",
       "      <td>0.851472</td>\n",
       "      <td>-1.059666</td>\n",
       "      <td>-0.190502</td>\n",
       "      <td>-0.069858</td>\n",
       "      <td>0</td>\n",
       "    </tr>\n",
       "    <tr>\n",
       "      <th>...</th>\n",
       "      <td>...</td>\n",
       "      <td>...</td>\n",
       "      <td>...</td>\n",
       "      <td>...</td>\n",
       "      <td>...</td>\n",
       "      <td>...</td>\n",
       "      <td>...</td>\n",
       "      <td>...</td>\n",
       "      <td>...</td>\n",
       "      <td>...</td>\n",
       "      <td>...</td>\n",
       "      <td>...</td>\n",
       "      <td>...</td>\n",
       "    </tr>\n",
       "    <tr>\n",
       "      <th>305</th>\n",
       "      <td>-0.731786</td>\n",
       "      <td>-0.392921</td>\n",
       "      <td>-0.860010</td>\n",
       "      <td>-0.646718</td>\n",
       "      <td>-0.035469</td>\n",
       "      <td>-0.814491</td>\n",
       "      <td>-1.202961</td>\n",
       "      <td>-1.562606</td>\n",
       "      <td>0.496104</td>\n",
       "      <td>-1.182667</td>\n",
       "      <td>-0.137294</td>\n",
       "      <td>-1.351275</td>\n",
       "      <td>1</td>\n",
       "    </tr>\n",
       "    <tr>\n",
       "      <th>306</th>\n",
       "      <td>-0.381197</td>\n",
       "      <td>0.318116</td>\n",
       "      <td>-1.225991</td>\n",
       "      <td>-0.726682</td>\n",
       "      <td>-0.267362</td>\n",
       "      <td>-0.712503</td>\n",
       "      <td>-1.489758</td>\n",
       "      <td>-0.246123</td>\n",
       "      <td>1.512183</td>\n",
       "      <td>-1.677586</td>\n",
       "      <td>1.644047</td>\n",
       "      <td>1.746585</td>\n",
       "      <td>1</td>\n",
       "    </tr>\n",
       "    <tr>\n",
       "      <th>307</th>\n",
       "      <td>0.055201</td>\n",
       "      <td>0.515618</td>\n",
       "      <td>-0.310977</td>\n",
       "      <td>-0.313564</td>\n",
       "      <td>0.582893</td>\n",
       "      <td>-0.773488</td>\n",
       "      <td>-1.373550</td>\n",
       "      <td>-0.593083</td>\n",
       "      <td>0.144949</td>\n",
       "      <td>-1.051583</td>\n",
       "      <td>1.443374</td>\n",
       "      <td>-0.693032</td>\n",
       "      <td>1</td>\n",
       "    </tr>\n",
       "    <tr>\n",
       "      <th>308</th>\n",
       "      <td>-0.885823</td>\n",
       "      <td>-0.885660</td>\n",
       "      <td>-0.558613</td>\n",
       "      <td>-0.477128</td>\n",
       "      <td>0.047021</td>\n",
       "      <td>-0.695548</td>\n",
       "      <td>-1.099547</td>\n",
       "      <td>-0.763798</td>\n",
       "      <td>0.892189</td>\n",
       "      <td>-0.752649</td>\n",
       "      <td>1.623849</td>\n",
       "      <td>0.773765</td>\n",
       "      <td>1</td>\n",
       "    </tr>\n",
       "    <tr>\n",
       "      <th>309</th>\n",
       "      <td>-1.548927</td>\n",
       "      <td>-1.247860</td>\n",
       "      <td>-0.825394</td>\n",
       "      <td>-1.058557</td>\n",
       "      <td>0.453117</td>\n",
       "      <td>-0.706589</td>\n",
       "      <td>0.706298</td>\n",
       "      <td>-0.224802</td>\n",
       "      <td>1.364609</td>\n",
       "      <td>0.621746</td>\n",
       "      <td>1.297423</td>\n",
       "      <td>1.433713</td>\n",
       "      <td>1</td>\n",
       "    </tr>\n",
       "  </tbody>\n",
       "</table>\n",
       "<p>310 rows × 13 columns</p>\n",
       "</div>"
      ],
      "text/plain": [
       "     pelvic_incidence  pelvic_tilt  lumbar_lordosis_angle  sacral_slope  \\\n",
       "0            0.147086     0.501369              -0.665177     -0.184950   \n",
       "1           -1.245864    -0.748769              -1.453001     -1.041521   \n",
       "2            0.484370     0.467932              -0.099262      0.273083   \n",
       "3            0.511390     0.711562              -0.411339      0.126128   \n",
       "4           -0.626648    -0.789693              -1.274745     -0.215876   \n",
       "..                ...          ...                    ...           ...   \n",
       "305         -0.731786    -0.392921              -0.860010     -0.646718   \n",
       "306         -0.381197     0.318116              -1.225991     -0.726682   \n",
       "307          0.055201     0.515618              -0.310977     -0.313564   \n",
       "308         -0.885823    -0.885660              -0.558613     -0.477128   \n",
       "309         -1.548927    -1.247860              -0.825394     -1.058557   \n",
       "\n",
       "     pelvic_radius  degree_spondylolisthesis  pelvic_slope  Direct_tilt  \\\n",
       "0        -1.447647                 -0.708059      0.951630    -1.015066   \n",
       "1        -0.264385                 -0.579556     -0.202553    -0.977816   \n",
       "2        -0.897686                 -0.795421      0.006694     0.639127   \n",
       "3        -1.207303                 -0.402288     -0.363213     0.259554   \n",
       "4        -0.733455                 -0.490106      0.246670     1.643094   \n",
       "..             ...                       ...           ...          ...   \n",
       "305      -0.035469                 -0.814491     -1.202961    -1.562606   \n",
       "306      -0.267362                 -0.712503     -1.489758    -0.246123   \n",
       "307       0.582893                 -0.773488     -1.373550    -0.593083   \n",
       "308       0.047021                 -0.695548     -1.099547    -0.763798   \n",
       "309       0.453117                 -0.706589      0.706298    -0.224802   \n",
       "\n",
       "     thoracic_slope  cervical_tilt  sacrum_angle  scoliosis_slope  target  \n",
       "0          0.434293       1.167129     -1.196587         1.712368       0  \n",
       "1          1.316291       1.679551     -0.940325        -0.913941       0  \n",
       "2          1.302680       1.635969     -1.227178        -0.615686       0  \n",
       "3         -0.105211      -0.176157     -1.345020        -0.652989       0  \n",
       "4          0.851472      -1.059666     -0.190502        -0.069858       0  \n",
       "..              ...            ...           ...              ...     ...  \n",
       "305        0.496104      -1.182667     -0.137294        -1.351275       1  \n",
       "306        1.512183      -1.677586      1.644047         1.746585       1  \n",
       "307        0.144949      -1.051583      1.443374        -0.693032       1  \n",
       "308        0.892189      -0.752649      1.623849         0.773765       1  \n",
       "309        1.364609       0.621746      1.297423         1.433713       1  \n",
       "\n",
       "[310 rows x 13 columns]"
      ]
     },
     "execution_count": 111,
     "metadata": {},
     "output_type": "execute_result"
    }
   ],
   "source": [
    "data_s"
   ]
  },
  {
   "cell_type": "code",
   "execution_count": 209,
   "metadata": {},
   "outputs": [],
   "source": [
    "X = data_s.drop(columns='target')\n",
    "y = data_s['target']\n",
    "\n",
    "\n",
    "\n",
    "Xtrain,Xtest,ytrain,ytest = train_test_split(X,y,train_size=0.70,random_state=1)"
   ]
  },
  {
   "cell_type": "code",
   "execution_count": 210,
   "metadata": {},
   "outputs": [
    {
     "data": {
      "text/plain": [
       "(310, 13)"
      ]
     },
     "execution_count": 210,
     "metadata": {},
     "output_type": "execute_result"
    }
   ],
   "source": [
    "data_s.shape"
   ]
  },
  {
   "cell_type": "code",
   "execution_count": 211,
   "metadata": {
    "scrolled": true
   },
   "outputs": [
    {
     "name": "stdout",
     "output_type": "stream",
     "text": [
      "(217, 12)\n",
      "(93, 12)\n"
     ]
    }
   ],
   "source": [
    "print(Xtrain.shape)\n",
    "print(Xtest.shape)"
   ]
  },
  {
   "cell_type": "code",
   "execution_count": 212,
   "metadata": {},
   "outputs": [
    {
     "name": "stdout",
     "output_type": "stream",
     "text": [
      "Fails to reject Null hypothesis,statisfy the assumption that test and train mean are equally distributed \n"
     ]
    }
   ],
   "source": [
    "from scipy.stats import ttest_ind\n",
    "\n",
    "#Hypothesis:\n",
    "#H0 : mean1 == mean2\n",
    "#H1 : mean1 != mean2\n",
    "t_stats,pvalue = ttest_ind(ytrain,ytest)\n",
    "\n",
    "if pvalue<0.05:\n",
    "    print('reject Null Hypothesis')\n",
    "else:\n",
    "    print('Fails to reject Null hypothesis,statisfy the assumption that test and train mean are equally distributed ')"
   ]
  },
  {
   "cell_type": "code",
   "execution_count": null,
   "metadata": {},
   "outputs": [],
   "source": []
  },
  {
   "cell_type": "code",
   "execution_count": 213,
   "metadata": {},
   "outputs": [
    {
     "data": {
      "text/html": [
       "<div>\n",
       "<style scoped>\n",
       "    .dataframe tbody tr th:only-of-type {\n",
       "        vertical-align: middle;\n",
       "    }\n",
       "\n",
       "    .dataframe tbody tr th {\n",
       "        vertical-align: top;\n",
       "    }\n",
       "\n",
       "    .dataframe thead th {\n",
       "        text-align: right;\n",
       "    }\n",
       "</style>\n",
       "<table border=\"1\" class=\"dataframe\">\n",
       "  <thead>\n",
       "    <tr style=\"text-align: right;\">\n",
       "      <th></th>\n",
       "      <th>pelvic_incidence</th>\n",
       "      <th>pelvic_tilt</th>\n",
       "      <th>lumbar_lordosis_angle</th>\n",
       "      <th>sacral_slope</th>\n",
       "      <th>pelvic_radius</th>\n",
       "      <th>degree_spondylolisthesis</th>\n",
       "      <th>pelvic_slope</th>\n",
       "      <th>Direct_tilt</th>\n",
       "      <th>thoracic_slope</th>\n",
       "      <th>cervical_tilt</th>\n",
       "      <th>sacrum_angle</th>\n",
       "      <th>scoliosis_slope</th>\n",
       "    </tr>\n",
       "  </thead>\n",
       "  <tbody>\n",
       "    <tr>\n",
       "      <th>0</th>\n",
       "      <td>0.147086</td>\n",
       "      <td>0.501369</td>\n",
       "      <td>-0.665177</td>\n",
       "      <td>-0.184950</td>\n",
       "      <td>-1.447647</td>\n",
       "      <td>-0.708059</td>\n",
       "      <td>0.951630</td>\n",
       "      <td>-1.015066</td>\n",
       "      <td>0.434293</td>\n",
       "      <td>1.167129</td>\n",
       "      <td>-1.196587</td>\n",
       "      <td>1.712368</td>\n",
       "    </tr>\n",
       "    <tr>\n",
       "      <th>1</th>\n",
       "      <td>-1.245864</td>\n",
       "      <td>-0.748769</td>\n",
       "      <td>-1.453001</td>\n",
       "      <td>-1.041521</td>\n",
       "      <td>-0.264385</td>\n",
       "      <td>-0.579556</td>\n",
       "      <td>-0.202553</td>\n",
       "      <td>-0.977816</td>\n",
       "      <td>1.316291</td>\n",
       "      <td>1.679551</td>\n",
       "      <td>-0.940325</td>\n",
       "      <td>-0.913941</td>\n",
       "    </tr>\n",
       "    <tr>\n",
       "      <th>2</th>\n",
       "      <td>0.484370</td>\n",
       "      <td>0.467932</td>\n",
       "      <td>-0.099262</td>\n",
       "      <td>0.273083</td>\n",
       "      <td>-0.897686</td>\n",
       "      <td>-0.795421</td>\n",
       "      <td>0.006694</td>\n",
       "      <td>0.639127</td>\n",
       "      <td>1.302680</td>\n",
       "      <td>1.635969</td>\n",
       "      <td>-1.227178</td>\n",
       "      <td>-0.615686</td>\n",
       "    </tr>\n",
       "    <tr>\n",
       "      <th>3</th>\n",
       "      <td>0.511390</td>\n",
       "      <td>0.711562</td>\n",
       "      <td>-0.411339</td>\n",
       "      <td>0.126128</td>\n",
       "      <td>-1.207303</td>\n",
       "      <td>-0.402288</td>\n",
       "      <td>-0.363213</td>\n",
       "      <td>0.259554</td>\n",
       "      <td>-0.105211</td>\n",
       "      <td>-0.176157</td>\n",
       "      <td>-1.345020</td>\n",
       "      <td>-0.652989</td>\n",
       "    </tr>\n",
       "    <tr>\n",
       "      <th>4</th>\n",
       "      <td>-0.626648</td>\n",
       "      <td>-0.789693</td>\n",
       "      <td>-1.274745</td>\n",
       "      <td>-0.215876</td>\n",
       "      <td>-0.733455</td>\n",
       "      <td>-0.490106</td>\n",
       "      <td>0.246670</td>\n",
       "      <td>1.643094</td>\n",
       "      <td>0.851472</td>\n",
       "      <td>-1.059666</td>\n",
       "      <td>-0.190502</td>\n",
       "      <td>-0.069858</td>\n",
       "    </tr>\n",
       "    <tr>\n",
       "      <th>...</th>\n",
       "      <td>...</td>\n",
       "      <td>...</td>\n",
       "      <td>...</td>\n",
       "      <td>...</td>\n",
       "      <td>...</td>\n",
       "      <td>...</td>\n",
       "      <td>...</td>\n",
       "      <td>...</td>\n",
       "      <td>...</td>\n",
       "      <td>...</td>\n",
       "      <td>...</td>\n",
       "      <td>...</td>\n",
       "    </tr>\n",
       "    <tr>\n",
       "      <th>305</th>\n",
       "      <td>-0.731786</td>\n",
       "      <td>-0.392921</td>\n",
       "      <td>-0.860010</td>\n",
       "      <td>-0.646718</td>\n",
       "      <td>-0.035469</td>\n",
       "      <td>-0.814491</td>\n",
       "      <td>-1.202961</td>\n",
       "      <td>-1.562606</td>\n",
       "      <td>0.496104</td>\n",
       "      <td>-1.182667</td>\n",
       "      <td>-0.137294</td>\n",
       "      <td>-1.351275</td>\n",
       "    </tr>\n",
       "    <tr>\n",
       "      <th>306</th>\n",
       "      <td>-0.381197</td>\n",
       "      <td>0.318116</td>\n",
       "      <td>-1.225991</td>\n",
       "      <td>-0.726682</td>\n",
       "      <td>-0.267362</td>\n",
       "      <td>-0.712503</td>\n",
       "      <td>-1.489758</td>\n",
       "      <td>-0.246123</td>\n",
       "      <td>1.512183</td>\n",
       "      <td>-1.677586</td>\n",
       "      <td>1.644047</td>\n",
       "      <td>1.746585</td>\n",
       "    </tr>\n",
       "    <tr>\n",
       "      <th>307</th>\n",
       "      <td>0.055201</td>\n",
       "      <td>0.515618</td>\n",
       "      <td>-0.310977</td>\n",
       "      <td>-0.313564</td>\n",
       "      <td>0.582893</td>\n",
       "      <td>-0.773488</td>\n",
       "      <td>-1.373550</td>\n",
       "      <td>-0.593083</td>\n",
       "      <td>0.144949</td>\n",
       "      <td>-1.051583</td>\n",
       "      <td>1.443374</td>\n",
       "      <td>-0.693032</td>\n",
       "    </tr>\n",
       "    <tr>\n",
       "      <th>308</th>\n",
       "      <td>-0.885823</td>\n",
       "      <td>-0.885660</td>\n",
       "      <td>-0.558613</td>\n",
       "      <td>-0.477128</td>\n",
       "      <td>0.047021</td>\n",
       "      <td>-0.695548</td>\n",
       "      <td>-1.099547</td>\n",
       "      <td>-0.763798</td>\n",
       "      <td>0.892189</td>\n",
       "      <td>-0.752649</td>\n",
       "      <td>1.623849</td>\n",
       "      <td>0.773765</td>\n",
       "    </tr>\n",
       "    <tr>\n",
       "      <th>309</th>\n",
       "      <td>-1.548927</td>\n",
       "      <td>-1.247860</td>\n",
       "      <td>-0.825394</td>\n",
       "      <td>-1.058557</td>\n",
       "      <td>0.453117</td>\n",
       "      <td>-0.706589</td>\n",
       "      <td>0.706298</td>\n",
       "      <td>-0.224802</td>\n",
       "      <td>1.364609</td>\n",
       "      <td>0.621746</td>\n",
       "      <td>1.297423</td>\n",
       "      <td>1.433713</td>\n",
       "    </tr>\n",
       "  </tbody>\n",
       "</table>\n",
       "<p>310 rows × 12 columns</p>\n",
       "</div>"
      ],
      "text/plain": [
       "     pelvic_incidence  pelvic_tilt  lumbar_lordosis_angle  sacral_slope  \\\n",
       "0            0.147086     0.501369              -0.665177     -0.184950   \n",
       "1           -1.245864    -0.748769              -1.453001     -1.041521   \n",
       "2            0.484370     0.467932              -0.099262      0.273083   \n",
       "3            0.511390     0.711562              -0.411339      0.126128   \n",
       "4           -0.626648    -0.789693              -1.274745     -0.215876   \n",
       "..                ...          ...                    ...           ...   \n",
       "305         -0.731786    -0.392921              -0.860010     -0.646718   \n",
       "306         -0.381197     0.318116              -1.225991     -0.726682   \n",
       "307          0.055201     0.515618              -0.310977     -0.313564   \n",
       "308         -0.885823    -0.885660              -0.558613     -0.477128   \n",
       "309         -1.548927    -1.247860              -0.825394     -1.058557   \n",
       "\n",
       "     pelvic_radius  degree_spondylolisthesis  pelvic_slope  Direct_tilt  \\\n",
       "0        -1.447647                 -0.708059      0.951630    -1.015066   \n",
       "1        -0.264385                 -0.579556     -0.202553    -0.977816   \n",
       "2        -0.897686                 -0.795421      0.006694     0.639127   \n",
       "3        -1.207303                 -0.402288     -0.363213     0.259554   \n",
       "4        -0.733455                 -0.490106      0.246670     1.643094   \n",
       "..             ...                       ...           ...          ...   \n",
       "305      -0.035469                 -0.814491     -1.202961    -1.562606   \n",
       "306      -0.267362                 -0.712503     -1.489758    -0.246123   \n",
       "307       0.582893                 -0.773488     -1.373550    -0.593083   \n",
       "308       0.047021                 -0.695548     -1.099547    -0.763798   \n",
       "309       0.453117                 -0.706589      0.706298    -0.224802   \n",
       "\n",
       "     thoracic_slope  cervical_tilt  sacrum_angle  scoliosis_slope  \n",
       "0          0.434293       1.167129     -1.196587         1.712368  \n",
       "1          1.316291       1.679551     -0.940325        -0.913941  \n",
       "2          1.302680       1.635969     -1.227178        -0.615686  \n",
       "3         -0.105211      -0.176157     -1.345020        -0.652989  \n",
       "4          0.851472      -1.059666     -0.190502        -0.069858  \n",
       "..              ...            ...           ...              ...  \n",
       "305        0.496104      -1.182667     -0.137294        -1.351275  \n",
       "306        1.512183      -1.677586      1.644047         1.746585  \n",
       "307        0.144949      -1.051583      1.443374        -0.693032  \n",
       "308        0.892189      -0.752649      1.623849         0.773765  \n",
       "309        1.364609       0.621746      1.297423         1.433713  \n",
       "\n",
       "[310 rows x 12 columns]"
      ]
     },
     "execution_count": 213,
     "metadata": {},
     "output_type": "execute_result"
    }
   ],
   "source": [
    "X"
   ]
  },
  {
   "cell_type": "code",
   "execution_count": 214,
   "metadata": {
    "scrolled": true
   },
   "outputs": [],
   "source": [
    "def plot_roc_curve(model,Xtest,ytest):\n",
    "    ypred_proba = model.predict_proba(Xtest)\n",
    "\n",
    "    fpr,tpr,thersolds = roc_curve(ytest,ypred_proba[:,1])\n",
    "\n",
    "    plt.plot(fpr,tpr)\n",
    "    plt.plot([0,1],[0,1],color='r')"
   ]
  },
  {
   "cell_type": "code",
   "execution_count": 215,
   "metadata": {
    "id": "ci6bACIAa4sI"
   },
   "outputs": [],
   "source": [
    "from sklearn.linear_model import LogisticRegression"
   ]
  },
  {
   "cell_type": "code",
   "execution_count": 216,
   "metadata": {
    "id": "psqN0nn4ONgV",
    "scrolled": true
   },
   "outputs": [
    {
     "data": {
      "text/plain": [
       "LogisticRegression()"
      ]
     },
     "execution_count": 216,
     "metadata": {},
     "output_type": "execute_result"
    }
   ],
   "source": [
    "base_model = LogisticRegression()\n",
    "base_model.fit(Xtrain,ytrain)\n"
   ]
  },
  {
   "cell_type": "code",
   "execution_count": 217,
   "metadata": {
    "scrolled": true
   },
   "outputs": [
    {
     "data": {
      "text/plain": [
       "0.8709677419354839"
      ]
     },
     "execution_count": 217,
     "metadata": {},
     "output_type": "execute_result"
    }
   ],
   "source": [
    "ypred = base_model.predict(Xtest)\n",
    "accuracy_score(ytest,ypred)"
   ]
  },
  {
   "cell_type": "code",
   "execution_count": 218,
   "metadata": {
    "scrolled": true
   },
   "outputs": [
    {
     "name": "stdout",
     "output_type": "stream",
     "text": [
      "              precision    recall  f1-score   support\n",
      "\n",
      "           0       0.91      0.91      0.91        66\n",
      "           1       0.78      0.78      0.78        27\n",
      "\n",
      "    accuracy                           0.87        93\n",
      "   macro avg       0.84      0.84      0.84        93\n",
      "weighted avg       0.87      0.87      0.87        93\n",
      "\n"
     ]
    }
   ],
   "source": [
    "print(classification_report(ytest,ypred))"
   ]
  },
  {
   "cell_type": "code",
   "execution_count": 219,
   "metadata": {},
   "outputs": [
    {
     "data": {
      "text/plain": [
       "array([[60,  6],\n",
       "       [ 6, 21]])"
      ]
     },
     "execution_count": 219,
     "metadata": {},
     "output_type": "execute_result"
    }
   ],
   "source": [
    "confusion_matrix(ytest,ypred)"
   ]
  },
  {
   "cell_type": "code",
   "execution_count": 220,
   "metadata": {},
   "outputs": [],
   "source": [
    "pref_score = pd.DataFrame(columns = ['accuracy_score','cohen_kappa_score','precision_score','recall_score','f1_score'])"
   ]
  },
  {
   "cell_type": "code",
   "execution_count": 221,
   "metadata": {},
   "outputs": [
    {
     "data": {
      "text/html": [
       "<div>\n",
       "<style scoped>\n",
       "    .dataframe tbody tr th:only-of-type {\n",
       "        vertical-align: middle;\n",
       "    }\n",
       "\n",
       "    .dataframe tbody tr th {\n",
       "        vertical-align: top;\n",
       "    }\n",
       "\n",
       "    .dataframe thead th {\n",
       "        text-align: right;\n",
       "    }\n",
       "</style>\n",
       "<table border=\"1\" class=\"dataframe\">\n",
       "  <thead>\n",
       "    <tr style=\"text-align: right;\">\n",
       "      <th></th>\n",
       "      <th>accuracy_score</th>\n",
       "      <th>cohen_kappa_score</th>\n",
       "      <th>precision_score</th>\n",
       "      <th>recall_score</th>\n",
       "      <th>f1_score</th>\n",
       "    </tr>\n",
       "  </thead>\n",
       "  <tbody>\n",
       "  </tbody>\n",
       "</table>\n",
       "</div>"
      ],
      "text/plain": [
       "Empty DataFrame\n",
       "Columns: [accuracy_score, cohen_kappa_score, precision_score, recall_score, f1_score]\n",
       "Index: []"
      ]
     },
     "execution_count": 221,
     "metadata": {},
     "output_type": "execute_result"
    }
   ],
   "source": [
    "pref_score"
   ]
  },
  {
   "cell_type": "code",
   "execution_count": 222,
   "metadata": {},
   "outputs": [],
   "source": [
    "def update_performance(model_name,test,pred):\n",
    "    global pref_score\n",
    "    \n",
    "    pref_score = pref_score.append({'model_name':model_name,'accuracy_score':accuracy_score(test,pred),'recall_score':recall_score(test,pred),'precision_score':precision_score(test,pred),'cohen_kappa_score':cohen_kappa_score(test,pred),\n",
    "                                   'f1_score':f1_score(test,pred)},ignore_index=True)\n",
    "    return pref_score"
   ]
  },
  {
   "cell_type": "code",
   "execution_count": 223,
   "metadata": {
    "scrolled": true
   },
   "outputs": [
    {
     "data": {
      "text/html": [
       "<div>\n",
       "<style scoped>\n",
       "    .dataframe tbody tr th:only-of-type {\n",
       "        vertical-align: middle;\n",
       "    }\n",
       "\n",
       "    .dataframe tbody tr th {\n",
       "        vertical-align: top;\n",
       "    }\n",
       "\n",
       "    .dataframe thead th {\n",
       "        text-align: right;\n",
       "    }\n",
       "</style>\n",
       "<table border=\"1\" class=\"dataframe\">\n",
       "  <thead>\n",
       "    <tr style=\"text-align: right;\">\n",
       "      <th></th>\n",
       "      <th>accuracy_score</th>\n",
       "      <th>cohen_kappa_score</th>\n",
       "      <th>precision_score</th>\n",
       "      <th>recall_score</th>\n",
       "      <th>f1_score</th>\n",
       "      <th>model_name</th>\n",
       "    </tr>\n",
       "  </thead>\n",
       "  <tbody>\n",
       "    <tr>\n",
       "      <th>0</th>\n",
       "      <td>0.870968</td>\n",
       "      <td>0.686869</td>\n",
       "      <td>0.777778</td>\n",
       "      <td>0.777778</td>\n",
       "      <td>0.777778</td>\n",
       "      <td>Logistic_regression</td>\n",
       "    </tr>\n",
       "  </tbody>\n",
       "</table>\n",
       "</div>"
      ],
      "text/plain": [
       "   accuracy_score  cohen_kappa_score  precision_score  recall_score  f1_score  \\\n",
       "0        0.870968           0.686869         0.777778      0.777778  0.777778   \n",
       "\n",
       "            model_name  \n",
       "0  Logistic_regression  "
      ]
     },
     "execution_count": 223,
     "metadata": {},
     "output_type": "execute_result"
    }
   ],
   "source": [
    "update_performance('Logistic_regression',ytest,ypred)"
   ]
  },
  {
   "cell_type": "code",
   "execution_count": 225,
   "metadata": {},
   "outputs": [
    {
     "data": {
      "image/png": "[encoded data removed]",
      "text/plain": [
       "<Figure size 432x288 with 1 Axes>"
      ]
     },
     "metadata": {
      "needs_background": "light"
     },
     "output_type": "display_data"
    }
   ],
   "source": [
    "plot_roc_curve(base_model,Xtest,ytest)"
   ]
  },
  {
   "cell_type": "code",
   "execution_count": 226,
   "metadata": {},
   "outputs": [
    {
     "data": {
      "text/html": [
       "<div>\n",
       "<style scoped>\n",
       "    .dataframe tbody tr th:only-of-type {\n",
       "        vertical-align: middle;\n",
       "    }\n",
       "\n",
       "    .dataframe tbody tr th {\n",
       "        vertical-align: top;\n",
       "    }\n",
       "\n",
       "    .dataframe thead th {\n",
       "        text-align: right;\n",
       "    }\n",
       "</style>\n",
       "<table border=\"1\" class=\"dataframe\">\n",
       "  <thead>\n",
       "    <tr style=\"text-align: right;\">\n",
       "      <th></th>\n",
       "      <th>accuracy_score</th>\n",
       "      <th>cohen_kappa_score</th>\n",
       "      <th>precision_score</th>\n",
       "      <th>recall_score</th>\n",
       "      <th>f1_score</th>\n",
       "      <th>model_name</th>\n",
       "    </tr>\n",
       "  </thead>\n",
       "  <tbody>\n",
       "    <tr>\n",
       "      <th>0</th>\n",
       "      <td>0.870968</td>\n",
       "      <td>0.686869</td>\n",
       "      <td>0.777778</td>\n",
       "      <td>0.777778</td>\n",
       "      <td>0.777778</td>\n",
       "      <td>Logistic_regression</td>\n",
       "    </tr>\n",
       "    <tr>\n",
       "      <th>1</th>\n",
       "      <td>0.784946</td>\n",
       "      <td>0.510269</td>\n",
       "      <td>0.606061</td>\n",
       "      <td>0.740741</td>\n",
       "      <td>0.666667</td>\n",
       "      <td>DecisionTreeClassifier</td>\n",
       "    </tr>\n",
       "  </tbody>\n",
       "</table>\n",
       "</div>"
      ],
      "text/plain": [
       "   accuracy_score  cohen_kappa_score  precision_score  recall_score  f1_score  \\\n",
       "0        0.870968           0.686869         0.777778      0.777778  0.777778   \n",
       "1        0.784946           0.510269         0.606061      0.740741  0.666667   \n",
       "\n",
       "               model_name  \n",
       "0     Logistic_regression  \n",
       "1  DecisionTreeClassifier  "
      ]
     },
     "execution_count": 226,
     "metadata": {},
     "output_type": "execute_result"
    }
   ],
   "source": [
    "from sklearn.tree import DecisionTreeClassifier\n",
    "\n",
    "dt_model = DecisionTreeClassifier()\n",
    "dt_model.fit(Xtrain,ytrain)\n",
    "\n",
    "ypred = dt_model.predict(Xtest)\n",
    "accuracy_score(ytest,ypred)\n",
    "\n",
    "update_performance('DecisionTreeClassifier',ytest,ypred)"
   ]
  },
  {
   "cell_type": "code",
   "execution_count": 227,
   "metadata": {
    "scrolled": true
   },
   "outputs": [
    {
     "data": {
      "text/plain": [
       "array([[53, 13],\n",
       "       [ 7, 20]])"
      ]
     },
     "execution_count": 227,
     "metadata": {},
     "output_type": "execute_result"
    }
   ],
   "source": [
    "confusion_matrix(ytest,ypred)"
   ]
  },
  {
   "cell_type": "code",
   "execution_count": 190,
   "metadata": {
    "scrolled": true
   },
   "outputs": [
    {
     "data": {
      "text/html": [
       "<div>\n",
       "<style scoped>\n",
       "    .dataframe tbody tr th:only-of-type {\n",
       "        vertical-align: middle;\n",
       "    }\n",
       "\n",
       "    .dataframe tbody tr th {\n",
       "        vertical-align: top;\n",
       "    }\n",
       "\n",
       "    .dataframe thead th {\n",
       "        text-align: right;\n",
       "    }\n",
       "</style>\n",
       "<table border=\"1\" class=\"dataframe\">\n",
       "  <thead>\n",
       "    <tr style=\"text-align: right;\">\n",
       "      <th></th>\n",
       "      <th>accuracy_score</th>\n",
       "      <th>cohen_kappa_score</th>\n",
       "      <th>precision_score</th>\n",
       "      <th>recall_score</th>\n",
       "      <th>f1_score</th>\n",
       "      <th>model_name</th>\n",
       "    </tr>\n",
       "  </thead>\n",
       "  <tbody>\n",
       "    <tr>\n",
       "      <th>0</th>\n",
       "      <td>0.817204</td>\n",
       "      <td>0.579409</td>\n",
       "      <td>0.65625</td>\n",
       "      <td>0.777778</td>\n",
       "      <td>0.711864</td>\n",
       "      <td>Logistic_regression</td>\n",
       "    </tr>\n",
       "    <tr>\n",
       "      <th>1</th>\n",
       "      <td>0.784946</td>\n",
       "      <td>0.520124</td>\n",
       "      <td>0.60000</td>\n",
       "      <td>0.777778</td>\n",
       "      <td>0.677419</td>\n",
       "      <td>DecisionTreeClassifier</td>\n",
       "    </tr>\n",
       "    <tr>\n",
       "      <th>2</th>\n",
       "      <td>0.709677</td>\n",
       "      <td>0.345582</td>\n",
       "      <td>0.50000</td>\n",
       "      <td>0.629630</td>\n",
       "      <td>0.557377</td>\n",
       "      <td>KNeighborsClassifier</td>\n",
       "    </tr>\n",
       "  </tbody>\n",
       "</table>\n",
       "</div>"
      ],
      "text/plain": [
       "   accuracy_score  cohen_kappa_score  precision_score  recall_score  f1_score  \\\n",
       "0        0.817204           0.579409          0.65625      0.777778  0.711864   \n",
       "1        0.784946           0.520124          0.60000      0.777778  0.677419   \n",
       "2        0.709677           0.345582          0.50000      0.629630  0.557377   \n",
       "\n",
       "               model_name  \n",
       "0     Logistic_regression  \n",
       "1  DecisionTreeClassifier  \n",
       "2    KNeighborsClassifier  "
      ]
     },
     "execution_count": 190,
     "metadata": {},
     "output_type": "execute_result"
    }
   ],
   "source": [
    "from sklearn.neighbors import KNeighborsClassifier\n",
    "\n",
    "Kn_model = KNeighborsClassifier()\n",
    "Kn_model.fit(Xtrain,ytrain)\n",
    "\n",
    "ypred = Kn_model.predict(Xtest)\n",
    "accuracy_score(ytest,ypred)\n",
    "\n",
    "update_performance('KNeighborsClassifier',ytest,ypred)"
   ]
  },
  {
   "cell_type": "code",
   "execution_count": 229,
   "metadata": {},
   "outputs": [
    {
     "data": {
      "image/png": "[encoded data removed]",
      "text/plain": [
       "<Figure size 432x288 with 1 Axes>"
      ]
     },
     "metadata": {
      "needs_background": "light"
     },
     "output_type": "display_data"
    }
   ],
   "source": [
    "plot_roc_curve(Kn_model,Xtest,ytest)"
   ]
  },
  {
   "cell_type": "code",
   "execution_count": 230,
   "metadata": {
    "scrolled": false
   },
   "outputs": [
    {
     "data": {
      "text/html": [
       "<div>\n",
       "<style scoped>\n",
       "    .dataframe tbody tr th:only-of-type {\n",
       "        vertical-align: middle;\n",
       "    }\n",
       "\n",
       "    .dataframe tbody tr th {\n",
       "        vertical-align: top;\n",
       "    }\n",
       "\n",
       "    .dataframe thead th {\n",
       "        text-align: right;\n",
       "    }\n",
       "</style>\n",
       "<table border=\"1\" class=\"dataframe\">\n",
       "  <thead>\n",
       "    <tr style=\"text-align: right;\">\n",
       "      <th></th>\n",
       "      <th>accuracy_score</th>\n",
       "      <th>cohen_kappa_score</th>\n",
       "      <th>precision_score</th>\n",
       "      <th>recall_score</th>\n",
       "      <th>f1_score</th>\n",
       "      <th>model_name</th>\n",
       "    </tr>\n",
       "  </thead>\n",
       "  <tbody>\n",
       "    <tr>\n",
       "      <th>0</th>\n",
       "      <td>0.870968</td>\n",
       "      <td>0.686869</td>\n",
       "      <td>0.777778</td>\n",
       "      <td>0.777778</td>\n",
       "      <td>0.777778</td>\n",
       "      <td>Logistic_regression</td>\n",
       "    </tr>\n",
       "    <tr>\n",
       "      <th>1</th>\n",
       "      <td>0.784946</td>\n",
       "      <td>0.510269</td>\n",
       "      <td>0.606061</td>\n",
       "      <td>0.740741</td>\n",
       "      <td>0.666667</td>\n",
       "      <td>DecisionTreeClassifier</td>\n",
       "    </tr>\n",
       "    <tr>\n",
       "      <th>2</th>\n",
       "      <td>0.817204</td>\n",
       "      <td>0.604057</td>\n",
       "      <td>0.631579</td>\n",
       "      <td>0.888889</td>\n",
       "      <td>0.738462</td>\n",
       "      <td>GaussianNB</td>\n",
       "    </tr>\n",
       "    <tr>\n",
       "      <th>3</th>\n",
       "      <td>0.731183</td>\n",
       "      <td>0.417731</td>\n",
       "      <td>0.526316</td>\n",
       "      <td>0.740741</td>\n",
       "      <td>0.615385</td>\n",
       "      <td>BernoulliNB</td>\n",
       "    </tr>\n",
       "  </tbody>\n",
       "</table>\n",
       "</div>"
      ],
      "text/plain": [
       "   accuracy_score  cohen_kappa_score  precision_score  recall_score  f1_score  \\\n",
       "0        0.870968           0.686869         0.777778      0.777778  0.777778   \n",
       "1        0.784946           0.510269         0.606061      0.740741  0.666667   \n",
       "2        0.817204           0.604057         0.631579      0.888889  0.738462   \n",
       "3        0.731183           0.417731         0.526316      0.740741  0.615385   \n",
       "\n",
       "               model_name  \n",
       "0     Logistic_regression  \n",
       "1  DecisionTreeClassifier  \n",
       "2              GaussianNB  \n",
       "3             BernoulliNB  "
      ]
     },
     "execution_count": 230,
     "metadata": {},
     "output_type": "execute_result"
    }
   ],
   "source": [
    "from sklearn.naive_bayes import GaussianNB,BernoulliNB\n",
    "\n",
    "gb_model = GaussianNB()\n",
    "gb_model.fit(Xtrain,ytrain)\n",
    "\n",
    "ypred = gb_model.predict(Xtest)\n",
    "accuracy_score(ytest,ypred)\n",
    "\n",
    "update_performance('GaussianNB',ytest,ypred)\n",
    "\n",
    "\n",
    "BB_model = BernoulliNB()\n",
    "BB_model.fit(Xtrain,ytrain)\n",
    "\n",
    "ypred = BB_model.predict(Xtest)\n",
    "accuracy_score(ytest,ypred)\n",
    "\n",
    "update_performance('BernoulliNB',ytest,ypred)"
   ]
  },
  {
   "cell_type": "code",
   "execution_count": 232,
   "metadata": {},
   "outputs": [
    {
     "data": {
      "image/png": "[encoded data removed]",
      "text/plain": [
       "<Figure size 432x288 with 1 Axes>"
      ]
     },
     "metadata": {
      "needs_background": "light"
     },
     "output_type": "display_data"
    }
   ],
   "source": [
    "plot_roc_curve(gb_model,Xtest,ytest)"
   ]
  },
  {
   "cell_type": "code",
   "execution_count": 192,
   "metadata": {},
   "outputs": [
    {
     "data": {
      "text/plain": [
       "DecisionTreeClassifier(criterion='entropy', max_depth=10, min_samples_leaf=50,\n",
       "                       min_samples_split=50)"
      ]
     },
     "execution_count": 192,
     "metadata": {},
     "output_type": "execute_result"
    }
   ],
   "source": [
    "DecisionTreeClassifier(max_depth=10,min_samples_split=50,min_samples_leaf=50,criterion='entropy')"
   ]
  },
  {
   "cell_type": "code",
   "execution_count": 233,
   "metadata": {
    "scrolled": true
   },
   "outputs": [
    {
     "data": {
      "text/html": [
       "<div>\n",
       "<style scoped>\n",
       "    .dataframe tbody tr th:only-of-type {\n",
       "        vertical-align: middle;\n",
       "    }\n",
       "\n",
       "    .dataframe tbody tr th {\n",
       "        vertical-align: top;\n",
       "    }\n",
       "\n",
       "    .dataframe thead th {\n",
       "        text-align: right;\n",
       "    }\n",
       "</style>\n",
       "<table border=\"1\" class=\"dataframe\">\n",
       "  <thead>\n",
       "    <tr style=\"text-align: right;\">\n",
       "      <th></th>\n",
       "      <th>accuracy_score</th>\n",
       "      <th>cohen_kappa_score</th>\n",
       "      <th>precision_score</th>\n",
       "      <th>recall_score</th>\n",
       "      <th>f1_score</th>\n",
       "      <th>model_name</th>\n",
       "    </tr>\n",
       "  </thead>\n",
       "  <tbody>\n",
       "    <tr>\n",
       "      <th>0</th>\n",
       "      <td>0.870968</td>\n",
       "      <td>0.686869</td>\n",
       "      <td>0.777778</td>\n",
       "      <td>0.777778</td>\n",
       "      <td>0.777778</td>\n",
       "      <td>Logistic_regression</td>\n",
       "    </tr>\n",
       "    <tr>\n",
       "      <th>1</th>\n",
       "      <td>0.784946</td>\n",
       "      <td>0.510269</td>\n",
       "      <td>0.606061</td>\n",
       "      <td>0.740741</td>\n",
       "      <td>0.666667</td>\n",
       "      <td>DecisionTreeClassifier</td>\n",
       "    </tr>\n",
       "    <tr>\n",
       "      <th>2</th>\n",
       "      <td>0.817204</td>\n",
       "      <td>0.604057</td>\n",
       "      <td>0.631579</td>\n",
       "      <td>0.888889</td>\n",
       "      <td>0.738462</td>\n",
       "      <td>GaussianNB</td>\n",
       "    </tr>\n",
       "    <tr>\n",
       "      <th>3</th>\n",
       "      <td>0.731183</td>\n",
       "      <td>0.417731</td>\n",
       "      <td>0.526316</td>\n",
       "      <td>0.740741</td>\n",
       "      <td>0.615385</td>\n",
       "      <td>BernoulliNB</td>\n",
       "    </tr>\n",
       "    <tr>\n",
       "      <th>4</th>\n",
       "      <td>0.806452</td>\n",
       "      <td>0.530303</td>\n",
       "      <td>0.666667</td>\n",
       "      <td>0.666667</td>\n",
       "      <td>0.666667</td>\n",
       "      <td>DecisionTreeClassifier_adjusted_param_grid</td>\n",
       "    </tr>\n",
       "  </tbody>\n",
       "</table>\n",
       "</div>"
      ],
      "text/plain": [
       "   accuracy_score  cohen_kappa_score  precision_score  recall_score  f1_score  \\\n",
       "0        0.870968           0.686869         0.777778      0.777778  0.777778   \n",
       "1        0.784946           0.510269         0.606061      0.740741  0.666667   \n",
       "2        0.817204           0.604057         0.631579      0.888889  0.738462   \n",
       "3        0.731183           0.417731         0.526316      0.740741  0.615385   \n",
       "4        0.806452           0.530303         0.666667      0.666667  0.666667   \n",
       "\n",
       "                                   model_name  \n",
       "0                         Logistic_regression  \n",
       "1                      DecisionTreeClassifier  \n",
       "2                                  GaussianNB  \n",
       "3                                 BernoulliNB  \n",
       "4  DecisionTreeClassifier_adjusted_param_grid  "
      ]
     },
     "execution_count": 233,
     "metadata": {},
     "output_type": "execute_result"
    }
   ],
   "source": [
    "dt_model = DecisionTreeClassifier(max_depth=10,min_samples_split=50,min_samples_leaf=50,criterion='entropy')\n",
    "dt_model.fit(Xtrain,ytrain)\n",
    "\n",
    "ypred = dt_model.predict(Xtest)\n",
    "accuracy_score(ytest,ypred)\n",
    "\n",
    "update_performance('DecisionTreeClassifier_adjusted_param_grid',ytest,ypred)"
   ]
  },
  {
   "cell_type": "code",
   "execution_count": 234,
   "metadata": {},
   "outputs": [
    {
     "data": {
      "image/png": "[encoded data removed]",
      "text/plain": [
       "<Figure size 432x288 with 1 Axes>"
      ]
     },
     "metadata": {
      "needs_background": "light"
     },
     "output_type": "display_data"
    }
   ],
   "source": [
    "plot_roc_curve(dt_model,Xtest,ytest)"
   ]
  },
  {
   "cell_type": "code",
   "execution_count": 235,
   "metadata": {
    "scrolled": true
   },
   "outputs": [],
   "source": [
    "feature_import_dt = pd.DataFrame(dt_model.feature_importances_,index=X.columns,columns=['importance'])"
   ]
  },
  {
   "cell_type": "code",
   "execution_count": 236,
   "metadata": {},
   "outputs": [
    {
     "data": {
      "text/html": [
       "<div>\n",
       "<style scoped>\n",
       "    .dataframe tbody tr th:only-of-type {\n",
       "        vertical-align: middle;\n",
       "    }\n",
       "\n",
       "    .dataframe tbody tr th {\n",
       "        vertical-align: top;\n",
       "    }\n",
       "\n",
       "    .dataframe thead th {\n",
       "        text-align: right;\n",
       "    }\n",
       "</style>\n",
       "<table border=\"1\" class=\"dataframe\">\n",
       "  <thead>\n",
       "    <tr style=\"text-align: right;\">\n",
       "      <th></th>\n",
       "      <th>importance</th>\n",
       "    </tr>\n",
       "  </thead>\n",
       "  <tbody>\n",
       "    <tr>\n",
       "      <th>degree_spondylolisthesis</th>\n",
       "      <td>0.832843</td>\n",
       "    </tr>\n",
       "    <tr>\n",
       "      <th>pelvic_radius</th>\n",
       "      <td>0.167157</td>\n",
       "    </tr>\n",
       "    <tr>\n",
       "      <th>pelvic_incidence</th>\n",
       "      <td>0.000000</td>\n",
       "    </tr>\n",
       "    <tr>\n",
       "      <th>pelvic_tilt</th>\n",
       "      <td>0.000000</td>\n",
       "    </tr>\n",
       "    <tr>\n",
       "      <th>lumbar_lordosis_angle</th>\n",
       "      <td>0.000000</td>\n",
       "    </tr>\n",
       "    <tr>\n",
       "      <th>sacral_slope</th>\n",
       "      <td>0.000000</td>\n",
       "    </tr>\n",
       "    <tr>\n",
       "      <th>pelvic_slope</th>\n",
       "      <td>0.000000</td>\n",
       "    </tr>\n",
       "    <tr>\n",
       "      <th>Direct_tilt</th>\n",
       "      <td>0.000000</td>\n",
       "    </tr>\n",
       "    <tr>\n",
       "      <th>thoracic_slope</th>\n",
       "      <td>0.000000</td>\n",
       "    </tr>\n",
       "    <tr>\n",
       "      <th>cervical_tilt</th>\n",
       "      <td>0.000000</td>\n",
       "    </tr>\n",
       "    <tr>\n",
       "      <th>sacrum_angle</th>\n",
       "      <td>0.000000</td>\n",
       "    </tr>\n",
       "    <tr>\n",
       "      <th>scoliosis_slope</th>\n",
       "      <td>0.000000</td>\n",
       "    </tr>\n",
       "  </tbody>\n",
       "</table>\n",
       "</div>"
      ],
      "text/plain": [
       "                          importance\n",
       "degree_spondylolisthesis    0.832843\n",
       "pelvic_radius               0.167157\n",
       "pelvic_incidence            0.000000\n",
       "pelvic_tilt                 0.000000\n",
       "lumbar_lordosis_angle       0.000000\n",
       "sacral_slope                0.000000\n",
       "pelvic_slope                0.000000\n",
       "Direct_tilt                 0.000000\n",
       "thoracic_slope              0.000000\n",
       "cervical_tilt               0.000000\n",
       "sacrum_angle                0.000000\n",
       "scoliosis_slope             0.000000"
      ]
     },
     "execution_count": 236,
     "metadata": {},
     "output_type": "execute_result"
    }
   ],
   "source": [
    "feature_import_dt.sort_values('importance',ascending=False)"
   ]
  },
  {
   "cell_type": "code",
   "execution_count": 237,
   "metadata": {
    "scrolled": true
   },
   "outputs": [
    {
     "data": {
      "text/plain": [
       "<Figure size 2880x1440 with 0 Axes>"
      ]
     },
     "execution_count": 237,
     "metadata": {},
     "output_type": "execute_result"
    },
    {
     "data": {
      "image/png": "[encoded data removed]",
      "text/plain": [
       "<Figure size 432x288 with 1 Axes>"
      ]
     },
     "metadata": {
      "needs_background": "light"
     },
     "output_type": "display_data"
    },
    {
     "data": {
      "text/plain": [
       "<Figure size 2880x1440 with 0 Axes>"
      ]
     },
     "metadata": {},
     "output_type": "display_data"
    }
   ],
   "source": [
    "plt.bar(data=feature_import_dt,x=X.columns,height='importance')\n",
    "plt.figure(figsize=(40,20))\n"
   ]
  },
  {
   "cell_type": "markdown",
   "metadata": {},
   "source": [
    "pelvic_radius = 0.167157\n",
    "degree_spondylolisthesis  = 0.832843 palys major role"
   ]
  },
  {
   "cell_type": "code",
   "execution_count": 238,
   "metadata": {
    "scrolled": false
   },
   "outputs": [
    {
     "data": {
      "text/html": [
       "<div>\n",
       "<style scoped>\n",
       "    .dataframe tbody tr th:only-of-type {\n",
       "        vertical-align: middle;\n",
       "    }\n",
       "\n",
       "    .dataframe tbody tr th {\n",
       "        vertical-align: top;\n",
       "    }\n",
       "\n",
       "    .dataframe thead th {\n",
       "        text-align: right;\n",
       "    }\n",
       "</style>\n",
       "<table border=\"1\" class=\"dataframe\">\n",
       "  <thead>\n",
       "    <tr style=\"text-align: right;\">\n",
       "      <th></th>\n",
       "      <th>accuracy_score</th>\n",
       "      <th>cohen_kappa_score</th>\n",
       "      <th>precision_score</th>\n",
       "      <th>recall_score</th>\n",
       "      <th>f1_score</th>\n",
       "      <th>model_name</th>\n",
       "    </tr>\n",
       "  </thead>\n",
       "  <tbody>\n",
       "    <tr>\n",
       "      <th>0</th>\n",
       "      <td>0.870968</td>\n",
       "      <td>0.686869</td>\n",
       "      <td>0.777778</td>\n",
       "      <td>0.777778</td>\n",
       "      <td>0.777778</td>\n",
       "      <td>Logistic_regression</td>\n",
       "    </tr>\n",
       "    <tr>\n",
       "      <th>1</th>\n",
       "      <td>0.784946</td>\n",
       "      <td>0.510269</td>\n",
       "      <td>0.606061</td>\n",
       "      <td>0.740741</td>\n",
       "      <td>0.666667</td>\n",
       "      <td>DecisionTreeClassifier</td>\n",
       "    </tr>\n",
       "    <tr>\n",
       "      <th>2</th>\n",
       "      <td>0.817204</td>\n",
       "      <td>0.604057</td>\n",
       "      <td>0.631579</td>\n",
       "      <td>0.888889</td>\n",
       "      <td>0.738462</td>\n",
       "      <td>GaussianNB</td>\n",
       "    </tr>\n",
       "    <tr>\n",
       "      <th>3</th>\n",
       "      <td>0.731183</td>\n",
       "      <td>0.417731</td>\n",
       "      <td>0.526316</td>\n",
       "      <td>0.740741</td>\n",
       "      <td>0.615385</td>\n",
       "      <td>BernoulliNB</td>\n",
       "    </tr>\n",
       "    <tr>\n",
       "      <th>4</th>\n",
       "      <td>0.806452</td>\n",
       "      <td>0.530303</td>\n",
       "      <td>0.666667</td>\n",
       "      <td>0.666667</td>\n",
       "      <td>0.666667</td>\n",
       "      <td>DecisionTreeClassifier_adjusted_param_grid</td>\n",
       "    </tr>\n",
       "    <tr>\n",
       "      <th>5</th>\n",
       "      <td>0.817204</td>\n",
       "      <td>0.579409</td>\n",
       "      <td>0.656250</td>\n",
       "      <td>0.777778</td>\n",
       "      <td>0.711864</td>\n",
       "      <td>XGBClassifier</td>\n",
       "    </tr>\n",
       "  </tbody>\n",
       "</table>\n",
       "</div>"
      ],
      "text/plain": [
       "   accuracy_score  cohen_kappa_score  precision_score  recall_score  f1_score  \\\n",
       "0        0.870968           0.686869         0.777778      0.777778  0.777778   \n",
       "1        0.784946           0.510269         0.606061      0.740741  0.666667   \n",
       "2        0.817204           0.604057         0.631579      0.888889  0.738462   \n",
       "3        0.731183           0.417731         0.526316      0.740741  0.615385   \n",
       "4        0.806452           0.530303         0.666667      0.666667  0.666667   \n",
       "5        0.817204           0.579409         0.656250      0.777778  0.711864   \n",
       "\n",
       "                                   model_name  \n",
       "0                         Logistic_regression  \n",
       "1                      DecisionTreeClassifier  \n",
       "2                                  GaussianNB  \n",
       "3                                 BernoulliNB  \n",
       "4  DecisionTreeClassifier_adjusted_param_grid  \n",
       "5                               XGBClassifier  "
      ]
     },
     "execution_count": 238,
     "metadata": {},
     "output_type": "execute_result"
    }
   ],
   "source": [
    "from xgboost import XGBClassifier\n",
    "\n",
    "\n",
    "XGB_model = XGBClassifier()\n",
    "XGB_model.fit(Xtrain,ytrain)\n",
    "\n",
    "ypred = XGB_model.predict(Xtest)\n",
    "accuracy_score(ytest,ypred)\n",
    "\n",
    "update_performance('XGBClassifier',ytest,ypred)"
   ]
  },
  {
   "cell_type": "code",
   "execution_count": null,
   "metadata": {},
   "outputs": [],
   "source": [
    "plot_roc_curve(model,Xtest,ytest)"
   ]
  },
  {
   "cell_type": "code",
   "execution_count": 239,
   "metadata": {},
   "outputs": [],
   "source": [
    "feature_import_xgb = pd.DataFrame(XGB_model.feature_importances_,index=X.columns,columns=['importance'])"
   ]
  },
  {
   "cell_type": "code",
   "execution_count": 242,
   "metadata": {},
   "outputs": [
    {
     "data": {
      "text/html": [
       "<div>\n",
       "<style scoped>\n",
       "    .dataframe tbody tr th:only-of-type {\n",
       "        vertical-align: middle;\n",
       "    }\n",
       "\n",
       "    .dataframe tbody tr th {\n",
       "        vertical-align: top;\n",
       "    }\n",
       "\n",
       "    .dataframe thead th {\n",
       "        text-align: right;\n",
       "    }\n",
       "</style>\n",
       "<table border=\"1\" class=\"dataframe\">\n",
       "  <thead>\n",
       "    <tr style=\"text-align: right;\">\n",
       "      <th></th>\n",
       "      <th>importance</th>\n",
       "    </tr>\n",
       "  </thead>\n",
       "  <tbody>\n",
       "    <tr>\n",
       "      <th>degree_spondylolisthesis</th>\n",
       "      <td>0.256550</td>\n",
       "    </tr>\n",
       "    <tr>\n",
       "      <th>sacral_slope</th>\n",
       "      <td>0.168283</td>\n",
       "    </tr>\n",
       "    <tr>\n",
       "      <th>pelvic_radius</th>\n",
       "      <td>0.126995</td>\n",
       "    </tr>\n",
       "    <tr>\n",
       "      <th>pelvic_tilt</th>\n",
       "      <td>0.071074</td>\n",
       "    </tr>\n",
       "    <tr>\n",
       "      <th>sacrum_angle</th>\n",
       "      <td>0.061485</td>\n",
       "    </tr>\n",
       "    <tr>\n",
       "      <th>lumbar_lordosis_angle</th>\n",
       "      <td>0.060011</td>\n",
       "    </tr>\n",
       "    <tr>\n",
       "      <th>pelvic_incidence</th>\n",
       "      <td>0.058696</td>\n",
       "    </tr>\n",
       "    <tr>\n",
       "      <th>cervical_tilt</th>\n",
       "      <td>0.055393</td>\n",
       "    </tr>\n",
       "    <tr>\n",
       "      <th>thoracic_slope</th>\n",
       "      <td>0.054833</td>\n",
       "    </tr>\n",
       "    <tr>\n",
       "      <th>Direct_tilt</th>\n",
       "      <td>0.034960</td>\n",
       "    </tr>\n",
       "    <tr>\n",
       "      <th>pelvic_slope</th>\n",
       "      <td>0.027903</td>\n",
       "    </tr>\n",
       "    <tr>\n",
       "      <th>scoliosis_slope</th>\n",
       "      <td>0.023816</td>\n",
       "    </tr>\n",
       "  </tbody>\n",
       "</table>\n",
       "</div>"
      ],
      "text/plain": [
       "                          importance\n",
       "degree_spondylolisthesis    0.256550\n",
       "sacral_slope                0.168283\n",
       "pelvic_radius               0.126995\n",
       "pelvic_tilt                 0.071074\n",
       "sacrum_angle                0.061485\n",
       "lumbar_lordosis_angle       0.060011\n",
       "pelvic_incidence            0.058696\n",
       "cervical_tilt               0.055393\n",
       "thoracic_slope              0.054833\n",
       "Direct_tilt                 0.034960\n",
       "pelvic_slope                0.027903\n",
       "scoliosis_slope             0.023816"
      ]
     },
     "execution_count": 242,
     "metadata": {},
     "output_type": "execute_result"
    }
   ],
   "source": [
    "feature_import_xgb.sort_values('importance',ascending=False)"
   ]
  },
  {
   "cell_type": "code",
   "execution_count": 240,
   "metadata": {},
   "outputs": [
    {
     "data": {
      "text/plain": [
       "<Figure size 2880x1440 with 0 Axes>"
      ]
     },
     "execution_count": 240,
     "metadata": {},
     "output_type": "execute_result"
    },
    {
     "data": {
      "image/png": "[encoded data removed]",
      "text/plain": [
       "<Figure size 432x288 with 1 Axes>"
      ]
     },
     "metadata": {
      "needs_background": "light"
     },
     "output_type": "display_data"
    },
    {
     "data": {
      "text/plain": [
       "<Figure size 2880x1440 with 0 Axes>"
      ]
     },
     "metadata": {},
     "output_type": "display_data"
    }
   ],
   "source": [
    "plt.bar(data=feature_import_xgb,x=X.columns,height='importance')\n",
    "plt.figure(figsize=(40,20))\n"
   ]
  },
  {
   "cell_type": "code",
   "execution_count": 243,
   "metadata": {
    "scrolled": true
   },
   "outputs": [
    {
     "name": "stdout",
     "output_type": "stream",
     "text": [
      "[CV] END .................................................... total time=   0.0s\n",
      "[CV] END .................................................... total time=   0.0s\n",
      "[CV] END .................................................... total time=   0.0s\n",
      "[CV] END .................................................... total time=   0.0s\n",
      "[CV] END .................................................... total time=   0.0s\n",
      "[CV] END .................................................... total time=   0.0s\n",
      "[0.78378378 0.77777778 0.86111111 0.97222222 0.80555556 0.83333333]\n"
     ]
    },
    {
     "name": "stderr",
     "output_type": "stream",
     "text": [
      "[Parallel(n_jobs=1)]: Using backend SequentialBackend with 1 concurrent workers.\n",
      "[Parallel(n_jobs=1)]: Done   1 out of   1 | elapsed:    0.0s remaining:    0.0s\n",
      "[Parallel(n_jobs=1)]: Done   6 out of   6 | elapsed:    0.1s finished\n"
     ]
    }
   ],
   "source": [
    "from xgboost import XGBClassifier\n",
    "from sklearn.model_selection import cross_val_score,KFold,StratifiedKFold\n",
    "\n",
    "k_fold = StratifiedKFold(n_splits=6,shuffle = True,random_state=1)\n",
    "XGB_model = XGBClassifier(n_estimators=100,random_state=1)\n",
    "cv_score = cross_val_score(estimator=XGB_model,X=Xtrain,y=ytrain,cv=k_fold,scoring='accuracy',verbose=2)\n",
    "\n",
    "print(cv_score)\n",
    "\n",
    "#update_performance('XGBClassifier',ytest,ypred)"
   ]
  },
  {
   "cell_type": "markdown",
   "metadata": {},
   "source": [
    "Observation\n",
    "degree_spondylolisthesis\n",
    "sacral_slope \n",
    "pelvic_radius\n",
    "pelvic_tilt\n",
    "sacrum_angle\n",
    "lumbar_lordosis_angle\n",
    "\n",
    "These are important features which give high value to score"
   ]
  },
  {
   "cell_type": "code",
   "execution_count": 245,
   "metadata": {
    "scrolled": true
   },
   "outputs": [
    {
     "data": {
      "text/html": [
       "<div>\n",
       "<style scoped>\n",
       "    .dataframe tbody tr th:only-of-type {\n",
       "        vertical-align: middle;\n",
       "    }\n",
       "\n",
       "    .dataframe tbody tr th {\n",
       "        vertical-align: top;\n",
       "    }\n",
       "\n",
       "    .dataframe thead th {\n",
       "        text-align: right;\n",
       "    }\n",
       "</style>\n",
       "<table border=\"1\" class=\"dataframe\">\n",
       "  <thead>\n",
       "    <tr style=\"text-align: right;\">\n",
       "      <th></th>\n",
       "      <th>accuracy_score</th>\n",
       "      <th>cohen_kappa_score</th>\n",
       "      <th>precision_score</th>\n",
       "      <th>recall_score</th>\n",
       "      <th>f1_score</th>\n",
       "      <th>model_name</th>\n",
       "    </tr>\n",
       "  </thead>\n",
       "  <tbody>\n",
       "    <tr>\n",
       "      <th>0</th>\n",
       "      <td>0.870968</td>\n",
       "      <td>0.686869</td>\n",
       "      <td>0.777778</td>\n",
       "      <td>0.777778</td>\n",
       "      <td>0.777778</td>\n",
       "      <td>Logistic_regression</td>\n",
       "    </tr>\n",
       "    <tr>\n",
       "      <th>1</th>\n",
       "      <td>0.784946</td>\n",
       "      <td>0.510269</td>\n",
       "      <td>0.606061</td>\n",
       "      <td>0.740741</td>\n",
       "      <td>0.666667</td>\n",
       "      <td>DecisionTreeClassifier</td>\n",
       "    </tr>\n",
       "    <tr>\n",
       "      <th>2</th>\n",
       "      <td>0.817204</td>\n",
       "      <td>0.604057</td>\n",
       "      <td>0.631579</td>\n",
       "      <td>0.888889</td>\n",
       "      <td>0.738462</td>\n",
       "      <td>GaussianNB</td>\n",
       "    </tr>\n",
       "    <tr>\n",
       "      <th>3</th>\n",
       "      <td>0.731183</td>\n",
       "      <td>0.417731</td>\n",
       "      <td>0.526316</td>\n",
       "      <td>0.740741</td>\n",
       "      <td>0.615385</td>\n",
       "      <td>BernoulliNB</td>\n",
       "    </tr>\n",
       "    <tr>\n",
       "      <th>4</th>\n",
       "      <td>0.806452</td>\n",
       "      <td>0.530303</td>\n",
       "      <td>0.666667</td>\n",
       "      <td>0.666667</td>\n",
       "      <td>0.666667</td>\n",
       "      <td>DecisionTreeClassifier_adjusted_param_grid</td>\n",
       "    </tr>\n",
       "    <tr>\n",
       "      <th>5</th>\n",
       "      <td>0.817204</td>\n",
       "      <td>0.579409</td>\n",
       "      <td>0.656250</td>\n",
       "      <td>0.777778</td>\n",
       "      <td>0.711864</td>\n",
       "      <td>XGBClassifier</td>\n",
       "    </tr>\n",
       "  </tbody>\n",
       "</table>\n",
       "</div>"
      ],
      "text/plain": [
       "   accuracy_score  cohen_kappa_score  precision_score  recall_score  f1_score  \\\n",
       "0        0.870968           0.686869         0.777778      0.777778  0.777778   \n",
       "1        0.784946           0.510269         0.606061      0.740741  0.666667   \n",
       "2        0.817204           0.604057         0.631579      0.888889  0.738462   \n",
       "3        0.731183           0.417731         0.526316      0.740741  0.615385   \n",
       "4        0.806452           0.530303         0.666667      0.666667  0.666667   \n",
       "5        0.817204           0.579409         0.656250      0.777778  0.711864   \n",
       "\n",
       "                                   model_name  \n",
       "0                         Logistic_regression  \n",
       "1                      DecisionTreeClassifier  \n",
       "2                                  GaussianNB  \n",
       "3                                 BernoulliNB  \n",
       "4  DecisionTreeClassifier_adjusted_param_grid  \n",
       "5                               XGBClassifier  "
      ]
     },
     "execution_count": 245,
     "metadata": {},
     "output_type": "execute_result"
    }
   ],
   "source": [
    "pref_score"
   ]
  },
  {
   "cell_type": "code",
   "execution_count": 247,
   "metadata": {},
   "outputs": [
    {
     "data": {
      "text/plain": [
       "array([[52, 14],\n",
       "       [ 3, 24]])"
      ]
     },
     "execution_count": 247,
     "metadata": {},
     "output_type": "execute_result"
    }
   ],
   "source": [
    "gb_model = GaussianNB()\n",
    "gb_model.fit(Xtrain,ytrain)\n",
    "\n",
    "ypred = gb_model.predict(Xtest)\n",
    "accuracy_score(ytest,ypred)\n",
    "\n",
    "confusion_matrix(ytest,ypred)"
   ]
  },
  {
   "cell_type": "markdown",
   "metadata": {},
   "source": [
    "comparative to other model gaussian model shows proper actual and predicted in False Positive and False negative F1-score is taken in this measure"
   ]
  }
 ],
 "metadata": {
  "colab": {
   "collapsed_sections": [],
   "name": "SLC_MID_EXAM_PAPER.ipynb",
   "provenance": []
  },
  "kernelspec": {
   "display_name": "Python 3 (ipykernel)",
   "language": "python",
   "name": "python3"
  },
  "language_info": {
   "codemirror_mode": {
    "name": "ipython",
    "version": 3
   },
   "file_extension": ".py",
   "mimetype": "text/x-python",
   "name": "python",
   "nbconvert_exporter": "python",
   "pygments_lexer": "ipython3",
   "version": "3.10.9"
  }
 },
 "nbformat": 4,
 "nbformat_minor": 1
}
